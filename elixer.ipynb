{
 "cells": [
  {
   "cell_type": "markdown",
   "id": "12b12b43",
   "metadata": {},
   "source": [
    "# Elixer.\n",
    "### Alex Like Bot That Reads Scraped Data From Twitter.\n",
    "##### Created by Vera Lo."
   ]
  },
  {
   "cell_type": "code",
   "execution_count": 1,
   "id": "a78a8fb6",
   "metadata": {},
   "outputs": [
    {
     "name": "stdout",
     "output_type": "stream",
     "text": [
      "Python 3.6.8\n"
     ]
    }
   ],
   "source": [
    "!python --version"
   ]
  },
  {
   "cell_type": "code",
   "execution_count": 2,
   "id": "9706a79d",
   "metadata": {},
   "outputs": [
    {
     "name": "stdout",
     "output_type": "stream",
     "text": [
      "Requirement already satisfied: SpeechRecognition in c:\\users\\vixen\\appdata\\local\\programs\\python\\python36\\lib\\site-packages (3.8.1)\n",
      "Requirement already satisfied: pyttsx3 in c:\\users\\vixen\\appdata\\local\\programs\\python\\python36\\lib\\site-packages (2.90)\n",
      "Requirement already satisfied: pywin32 in c:\\users\\vixen\\appdata\\local\\programs\\python\\python36\\lib\\site-packages (from pyttsx3) (304)\n",
      "Requirement already satisfied: pypiwin32 in c:\\users\\vixen\\appdata\\local\\programs\\python\\python36\\lib\\site-packages (from pyttsx3) (223)\n",
      "Requirement already satisfied: comtypes in c:\\users\\vixen\\appdata\\local\\programs\\python\\python36\\lib\\site-packages (from pyttsx3) (1.1.13)\n"
     ]
    },
    {
     "name": "stderr",
     "output_type": "stream",
     "text": [
      "The system cannot find the file specified.\n"
     ]
    },
    {
     "name": "stdout",
     "output_type": "stream",
     "text": [
      "Requirement already satisfied: pywhatkit in c:\\users\\vixen\\appdata\\local\\programs\\python\\python36\\lib\\site-packages (5.4)\n",
      "Requirement already satisfied: pyautogui in c:\\users\\vixen\\appdata\\local\\programs\\python\\python36\\lib\\site-packages (from pywhatkit) (0.9.53)\n",
      "Requirement already satisfied: requests in c:\\users\\vixen\\appdata\\local\\programs\\python\\python36\\lib\\site-packages (from pywhatkit) (2.27.1)\n",
      "Requirement already satisfied: wikipedia in c:\\users\\vixen\\appdata\\local\\programs\\python\\python36\\lib\\site-packages (from pywhatkit) (1.4.0)\n",
      "Requirement already satisfied: Pillow in c:\\users\\vixen\\appdata\\local\\programs\\python\\python36\\lib\\site-packages (from pywhatkit) (8.4.0)\n",
      "Requirement already satisfied: Flask in c:\\users\\vixen\\appdata\\local\\programs\\python\\python36\\lib\\site-packages (from pywhatkit) (2.0.3)\n",
      "Requirement already satisfied: itsdangerous>=2.0 in c:\\users\\vixen\\appdata\\local\\programs\\python\\python36\\lib\\site-packages (from Flask->pywhatkit) (2.0.1)\n",
      "Requirement already satisfied: Jinja2>=3.0 in c:\\users\\vixen\\appdata\\local\\programs\\python\\python36\\lib\\site-packages (from Flask->pywhatkit) (3.0.3)\n",
      "Requirement already satisfied: click>=7.1.2 in c:\\users\\vixen\\appdata\\local\\programs\\python\\python36\\lib\\site-packages (from Flask->pywhatkit) (8.0.4)\n",
      "Requirement already satisfied: Werkzeug>=2.0 in c:\\users\\vixen\\appdata\\local\\programs\\python\\python36\\lib\\site-packages (from Flask->pywhatkit) (2.0.3)\n",
      "Requirement already satisfied: pymsgbox in c:\\users\\vixen\\appdata\\local\\programs\\python\\python36\\lib\\site-packages (from pyautogui->pywhatkit) (1.0.9)\n",
      "Requirement already satisfied: PyTweening>=1.0.1 in c:\\users\\vixen\\appdata\\local\\programs\\python\\python36\\lib\\site-packages (from pyautogui->pywhatkit) (1.0.4)\n",
      "Requirement already satisfied: pyscreeze>=0.1.21 in c:\\users\\vixen\\appdata\\local\\programs\\python\\python36\\lib\\site-packages (from pyautogui->pywhatkit) (0.1.28)\n",
      "Requirement already satisfied: pygetwindow>=0.0.5 in c:\\users\\vixen\\appdata\\local\\programs\\python\\python36\\lib\\site-packages (from pyautogui->pywhatkit) (0.0.9)\n",
      "Requirement already satisfied: mouseinfo in c:\\users\\vixen\\appdata\\local\\programs\\python\\python36\\lib\\site-packages (from pyautogui->pywhatkit) (0.1.3)\n",
      "Requirement already satisfied: certifi>=2017.4.17 in c:\\users\\vixen\\appdata\\local\\programs\\python\\python36\\lib\\site-packages (from requests->pywhatkit) (2022.6.15)\n",
      "Requirement already satisfied: idna<4,>=2.5 in c:\\users\\vixen\\appdata\\local\\programs\\python\\python36\\lib\\site-packages (from requests->pywhatkit) (3.3)\n",
      "Requirement already satisfied: urllib3<1.27,>=1.21.1 in c:\\users\\vixen\\appdata\\local\\programs\\python\\python36\\lib\\site-packages (from requests->pywhatkit) (1.26.11)\n",
      "Requirement already satisfied: charset-normalizer~=2.0.0 in c:\\users\\vixen\\appdata\\local\\programs\\python\\python36\\lib\\site-packages (from requests->pywhatkit) (2.0.12)\n",
      "Requirement already satisfied: beautifulsoup4 in c:\\users\\vixen\\appdata\\local\\programs\\python\\python36\\lib\\site-packages (from wikipedia->pywhatkit) (4.11.1)\n",
      "Requirement already satisfied: colorama in c:\\users\\vixen\\appdata\\local\\programs\\python\\python36\\lib\\site-packages (from click>=7.1.2->Flask->pywhatkit) (0.4.5)\n",
      "Requirement already satisfied: importlib-metadata in c:\\users\\vixen\\appdata\\local\\programs\\python\\python36\\lib\\site-packages (from click>=7.1.2->Flask->pywhatkit) (4.8.3)\n",
      "Requirement already satisfied: MarkupSafe>=2.0 in c:\\users\\vixen\\appdata\\local\\programs\\python\\python36\\lib\\site-packages (from Jinja2>=3.0->Flask->pywhatkit) (2.0.1)\n",
      "Requirement already satisfied: pyrect in c:\\users\\vixen\\appdata\\local\\programs\\python\\python36\\lib\\site-packages (from pygetwindow>=0.0.5->pyautogui->pywhatkit) (0.2.0)\n",
      "Requirement already satisfied: dataclasses in c:\\users\\vixen\\appdata\\local\\programs\\python\\python36\\lib\\site-packages (from Werkzeug>=2.0->Flask->pywhatkit) (0.8)\n",
      "Requirement already satisfied: soupsieve>1.2 in c:\\users\\vixen\\appdata\\local\\programs\\python\\python36\\lib\\site-packages (from beautifulsoup4->wikipedia->pywhatkit) (2.3.2.post1)\n",
      "Requirement already satisfied: pyperclip in c:\\users\\vixen\\appdata\\local\\programs\\python\\python36\\lib\\site-packages (from mouseinfo->pyautogui->pywhatkit) (1.8.2)\n",
      "Requirement already satisfied: typing-extensions>=3.6.4 in c:\\users\\vixen\\appdata\\local\\programs\\python\\python36\\lib\\site-packages (from importlib-metadata->click>=7.1.2->Flask->pywhatkit) (4.1.1)\n",
      "Requirement already satisfied: zipp>=0.5 in c:\\users\\vixen\\appdata\\local\\programs\\python\\python36\\lib\\site-packages (from importlib-metadata->click>=7.1.2->Flask->pywhatkit) (3.6.0)\n",
      "Requirement already satisfied: wikipedia in c:\\users\\vixen\\appdata\\local\\programs\\python\\python36\\lib\\site-packages (1.4.0)\n",
      "Requirement already satisfied: beautifulsoup4 in c:\\users\\vixen\\appdata\\local\\programs\\python\\python36\\lib\\site-packages (from wikipedia) (4.11.1)\n",
      "Requirement already satisfied: requests<3.0.0,>=2.0.0 in c:\\users\\vixen\\appdata\\local\\programs\\python\\python36\\lib\\site-packages (from wikipedia) (2.27.1)\n",
      "Requirement already satisfied: certifi>=2017.4.17 in c:\\users\\vixen\\appdata\\local\\programs\\python\\python36\\lib\\site-packages (from requests<3.0.0,>=2.0.0->wikipedia) (2022.6.15)\n",
      "Requirement already satisfied: charset-normalizer~=2.0.0 in c:\\users\\vixen\\appdata\\local\\programs\\python\\python36\\lib\\site-packages (from requests<3.0.0,>=2.0.0->wikipedia) (2.0.12)\n",
      "Requirement already satisfied: urllib3<1.27,>=1.21.1 in c:\\users\\vixen\\appdata\\local\\programs\\python\\python36\\lib\\site-packages (from requests<3.0.0,>=2.0.0->wikipedia) (1.26.11)\n",
      "Requirement already satisfied: idna<4,>=2.5 in c:\\users\\vixen\\appdata\\local\\programs\\python\\python36\\lib\\site-packages (from requests<3.0.0,>=2.0.0->wikipedia) (3.3)\n",
      "Requirement already satisfied: soupsieve>1.2 in c:\\users\\vixen\\appdata\\local\\programs\\python\\python36\\lib\\site-packages (from beautifulsoup4->wikipedia) (2.3.2.post1)\n",
      "Requirement already satisfied: pyjokes in c:\\users\\vixen\\appdata\\local\\programs\\python\\python36\\lib\\site-packages (0.6.0)\n"
     ]
    }
   ],
   "source": [
    "!pip install SpeechRecognition\n",
    "!pip install pyttsx3\n",
    "!pip install PyAudio # if error lower version python <=3.6\n",
    "!pip install pywhatkit\n",
    "!pip install wikipedia\n",
    "!pip install pyjokes"
   ]
  },
  {
   "cell_type": "code",
   "execution_count": 3,
   "id": "05e924db",
   "metadata": {},
   "outputs": [],
   "source": [
    "import speech_recognition as sr\n",
    "import pyttsx3\n",
    "import pywhatkit\n",
    "import datetime\n",
    "import wikipedia\n",
    "import pyjokes"
   ]
  },
  {
   "cell_type": "code",
   "execution_count": 4,
   "id": "648fdf28",
   "metadata": {},
   "outputs": [],
   "source": [
    "listener = sr.Recognizer()\n",
    "engine = pyttsx3.init()\n",
    "voices = engine.getProperty('voices')\n",
    "engine.setProperty('voice', voices[1].id)"
   ]
  },
  {
   "cell_type": "code",
   "execution_count": 5,
   "id": "83f58294",
   "metadata": {},
   "outputs": [],
   "source": [
    "def talk(text):\n",
    "    engine.say(text)\n",
    "    engine.runAndWait()\n",
    "\n",
    "def run_alexa(c):\n",
    "    commando = c\n",
    "    talk(commando)\n",
    "#     print(commando)\n",
    "#     if 'play' in commando:\n",
    "#         song = commando.replace('play', '')\n",
    "#         talk('playing ' + song)\n",
    "#         pywhatkit.playonyt(song)\n",
    "#     elif 'time' in commando:\n",
    "#         time = datetime.datetime.now().strftime('%H:%M:%S')\t#('%I:%M %p')\n",
    "#         print(time)\n",
    "#         talk('Current time is ' + time)\n",
    "#     elif 'wiki' in commando:\n",
    "#         query = commando.replace('wiki','')\n",
    "#         info = wikipedia.summary(query, 1)\n",
    "#         print(info)\n",
    "#         talk(info)\n",
    "#     elif 'date' in commando:\n",
    "#         talk('sorry, I have a headache')\n",
    "#     elif 'are you single' in commando:\n",
    "#         talk('I am in a voluntary slave to my master')\n",
    "#     elif 'tell me a joke' in commando:\n",
    "#         talk(pyjokes.get_joke())\n",
    "#     else:\n",
    "#         talk(c)"
   ]
  },
  {
   "cell_type": "code",
   "execution_count": 6,
   "id": "4a6f4266",
   "metadata": {},
   "outputs": [],
   "source": [
    "import pandas as pd\n",
    "import numpy as np"
   ]
  },
  {
   "cell_type": "code",
   "execution_count": 7,
   "id": "e7f4fde7",
   "metadata": {},
   "outputs": [],
   "source": [
    "data = pd.read_csv('clean_joke.csv')"
   ]
  },
  {
   "cell_type": "code",
   "execution_count": 8,
   "id": "cee220ce",
   "metadata": {},
   "outputs": [
    {
     "data": {
      "text/html": [
       "<div>\n",
       "<style scoped>\n",
       "    .dataframe tbody tr th:only-of-type {\n",
       "        vertical-align: middle;\n",
       "    }\n",
       "\n",
       "    .dataframe tbody tr th {\n",
       "        vertical-align: top;\n",
       "    }\n",
       "\n",
       "    .dataframe thead th {\n",
       "        text-align: right;\n",
       "    }\n",
       "</style>\n",
       "<table border=\"1\" class=\"dataframe\">\n",
       "  <thead>\n",
       "    <tr style=\"text-align: right;\">\n",
       "      <th></th>\n",
       "      <th>Unnamed: 0</th>\n",
       "      <th>Unnamed: 0.1</th>\n",
       "      <th>id</th>\n",
       "      <th>conversation_id</th>\n",
       "      <th>created_at</th>\n",
       "      <th>date</th>\n",
       "      <th>timezone</th>\n",
       "      <th>place</th>\n",
       "      <th>tweet</th>\n",
       "      <th>language</th>\n",
       "      <th>...</th>\n",
       "      <th>source</th>\n",
       "      <th>user_rt_id</th>\n",
       "      <th>user_rt</th>\n",
       "      <th>retweet_id</th>\n",
       "      <th>reply_to</th>\n",
       "      <th>retweet_date</th>\n",
       "      <th>translate</th>\n",
       "      <th>trans_src</th>\n",
       "      <th>trans_dest</th>\n",
       "      <th>cleaned</th>\n",
       "    </tr>\n",
       "  </thead>\n",
       "  <tbody>\n",
       "    <tr>\n",
       "      <th>0</th>\n",
       "      <td>0</td>\n",
       "      <td>0</td>\n",
       "      <td>1560414541254729728</td>\n",
       "      <td>1560414541254729728</td>\n",
       "      <td>1.660867e+12</td>\n",
       "      <td>2022-08-18 23:53:12</td>\n",
       "      <td>0</td>\n",
       "      <td>NaN</td>\n",
       "      <td>Anyone in need of some cash wanna come over an...</td>\n",
       "      <td>en</td>\n",
       "      <td>...</td>\n",
       "      <td>NaN</td>\n",
       "      <td>NaN</td>\n",
       "      <td>NaN</td>\n",
       "      <td>NaN</td>\n",
       "      <td>[]</td>\n",
       "      <td>NaN</td>\n",
       "      <td>NaN</td>\n",
       "      <td>NaN</td>\n",
       "      <td>NaN</td>\n",
       "      <td>Anyone in need of some cash wanna come over an...</td>\n",
       "    </tr>\n",
       "    <tr>\n",
       "      <th>1</th>\n",
       "      <td>1</td>\n",
       "      <td>1</td>\n",
       "      <td>1560413890231635973</td>\n",
       "      <td>1560413861857181697</td>\n",
       "      <td>1.660867e+12</td>\n",
       "      <td>2022-08-18 23:50:37</td>\n",
       "      <td>0</td>\n",
       "      <td>NaN</td>\n",
       "      <td>errr @randomtrump1 @RealDonaldTrump #joke : 'H...</td>\n",
       "      <td>en</td>\n",
       "      <td>...</td>\n",
       "      <td>NaN</td>\n",
       "      <td>NaN</td>\n",
       "      <td>NaN</td>\n",
       "      <td>NaN</td>\n",
       "      <td>[]</td>\n",
       "      <td>NaN</td>\n",
       "      <td>NaN</td>\n",
       "      <td>NaN</td>\n",
       "      <td>NaN</td>\n",
       "      <td>errr randomtrump1 RealDonaldTrump joke His cor...</td>\n",
       "    </tr>\n",
       "    <tr>\n",
       "      <th>2</th>\n",
       "      <td>2</td>\n",
       "      <td>2</td>\n",
       "      <td>1560413582088601600</td>\n",
       "      <td>1560413582088601600</td>\n",
       "      <td>1.660867e+12</td>\n",
       "      <td>2022-08-18 23:49:23</td>\n",
       "      <td>0</td>\n",
       "      <td>NaN</td>\n",
       "      <td>I am not groot, I am Tree @CommeEddie  #IAmGro...</td>\n",
       "      <td>en</td>\n",
       "      <td>...</td>\n",
       "      <td>NaN</td>\n",
       "      <td>NaN</td>\n",
       "      <td>NaN</td>\n",
       "      <td>NaN</td>\n",
       "      <td>[]</td>\n",
       "      <td>NaN</td>\n",
       "      <td>NaN</td>\n",
       "      <td>NaN</td>\n",
       "      <td>NaN</td>\n",
       "      <td>I am not groot I am Tree CommeEddie IAmGroot M...</td>\n",
       "    </tr>\n",
       "    <tr>\n",
       "      <th>3</th>\n",
       "      <td>3</td>\n",
       "      <td>3</td>\n",
       "      <td>1560411661692833793</td>\n",
       "      <td>1560411661692833793</td>\n",
       "      <td>1.660866e+12</td>\n",
       "      <td>2022-08-18 23:41:45</td>\n",
       "      <td>0</td>\n",
       "      <td>NaN</td>\n",
       "      <td>No kidding!!!  #alarmclock #joke  https://t.co...</td>\n",
       "      <td>en</td>\n",
       "      <td>...</td>\n",
       "      <td>NaN</td>\n",
       "      <td>NaN</td>\n",
       "      <td>NaN</td>\n",
       "      <td>NaN</td>\n",
       "      <td>[]</td>\n",
       "      <td>NaN</td>\n",
       "      <td>NaN</td>\n",
       "      <td>NaN</td>\n",
       "      <td>NaN</td>\n",
       "      <td>No kidding alarmclock joke https t co 2D1cHOjWLx</td>\n",
       "    </tr>\n",
       "    <tr>\n",
       "      <th>4</th>\n",
       "      <td>4</td>\n",
       "      <td>4</td>\n",
       "      <td>1560411198092443648</td>\n",
       "      <td>1560411198092443648</td>\n",
       "      <td>1.660866e+12</td>\n",
       "      <td>2022-08-18 23:39:55</td>\n",
       "      <td>0</td>\n",
       "      <td>NaN</td>\n",
       "      <td>Czym się rózni Yordle od Karła ?  Niektórzy lu...</td>\n",
       "      <td>pl</td>\n",
       "      <td>...</td>\n",
       "      <td>NaN</td>\n",
       "      <td>NaN</td>\n",
       "      <td>NaN</td>\n",
       "      <td>NaN</td>\n",
       "      <td>[]</td>\n",
       "      <td>NaN</td>\n",
       "      <td>NaN</td>\n",
       "      <td>NaN</td>\n",
       "      <td>NaN</td>\n",
       "      <td>Czym się rózni Yordle od Karła Niektórzy lubią...</td>\n",
       "    </tr>\n",
       "  </tbody>\n",
       "</table>\n",
       "<p>5 rows × 41 columns</p>\n",
       "</div>"
      ],
      "text/plain": [
       "   Unnamed: 0  Unnamed: 0.1                   id      conversation_id  \\\n",
       "0           0             0  1560414541254729728  1560414541254729728   \n",
       "1           1             1  1560413890231635973  1560413861857181697   \n",
       "2           2             2  1560413582088601600  1560413582088601600   \n",
       "3           3             3  1560411661692833793  1560411661692833793   \n",
       "4           4             4  1560411198092443648  1560411198092443648   \n",
       "\n",
       "     created_at                 date  timezone place  \\\n",
       "0  1.660867e+12  2022-08-18 23:53:12         0   NaN   \n",
       "1  1.660867e+12  2022-08-18 23:50:37         0   NaN   \n",
       "2  1.660867e+12  2022-08-18 23:49:23         0   NaN   \n",
       "3  1.660866e+12  2022-08-18 23:41:45         0   NaN   \n",
       "4  1.660866e+12  2022-08-18 23:39:55         0   NaN   \n",
       "\n",
       "                                               tweet language  ... source  \\\n",
       "0  Anyone in need of some cash wanna come over an...       en  ...    NaN   \n",
       "1  errr @randomtrump1 @RealDonaldTrump #joke : 'H...       en  ...    NaN   \n",
       "2  I am not groot, I am Tree @CommeEddie  #IAmGro...       en  ...    NaN   \n",
       "3  No kidding!!!  #alarmclock #joke  https://t.co...       en  ...    NaN   \n",
       "4  Czym się rózni Yordle od Karła ?  Niektórzy lu...       pl  ...    NaN   \n",
       "\n",
       "  user_rt_id  user_rt  retweet_id reply_to retweet_date  translate  trans_src  \\\n",
       "0        NaN      NaN         NaN       []          NaN        NaN        NaN   \n",
       "1        NaN      NaN         NaN       []          NaN        NaN        NaN   \n",
       "2        NaN      NaN         NaN       []          NaN        NaN        NaN   \n",
       "3        NaN      NaN         NaN       []          NaN        NaN        NaN   \n",
       "4        NaN      NaN         NaN       []          NaN        NaN        NaN   \n",
       "\n",
       "  trans_dest                                            cleaned  \n",
       "0        NaN  Anyone in need of some cash wanna come over an...  \n",
       "1        NaN  errr randomtrump1 RealDonaldTrump joke His cor...  \n",
       "2        NaN  I am not groot I am Tree CommeEddie IAmGroot M...  \n",
       "3        NaN   No kidding alarmclock joke https t co 2D1cHOjWLx  \n",
       "4        NaN  Czym się rózni Yordle od Karła Niektórzy lubią...  \n",
       "\n",
       "[5 rows x 41 columns]"
      ]
     },
     "execution_count": 8,
     "metadata": {},
     "output_type": "execute_result"
    }
   ],
   "source": [
    "data.head()"
   ]
  },
  {
   "cell_type": "code",
   "execution_count": 9,
   "id": "9177e521",
   "metadata": {},
   "outputs": [
    {
     "data": {
      "text/plain": [
       "(2501, 41)"
      ]
     },
     "execution_count": 9,
     "metadata": {},
     "output_type": "execute_result"
    }
   ],
   "source": [
    "data.shape"
   ]
  },
  {
   "cell_type": "code",
   "execution_count": null,
   "id": "b520830c",
   "metadata": {},
   "outputs": [],
   "source": []
  },
  {
   "cell_type": "code",
   "execution_count": 10,
   "id": "2b8cfda8",
   "metadata": {},
   "outputs": [
    {
     "name": "stdout",
     "output_type": "stream",
     "text": [
      "200\n"
     ]
    }
   ],
   "source": [
    "rate = engine.getProperty('rate')\n",
    "print (rate)"
   ]
  },
  {
   "cell_type": "code",
   "execution_count": 11,
   "id": "f2bed8e3",
   "metadata": {},
   "outputs": [],
   "source": [
    "engine.setProperty('rate', 112) # Decrease the Speed Rate x2"
   ]
  },
  {
   "cell_type": "code",
   "execution_count": 12,
   "id": "1ddc4671",
   "metadata": {},
   "outputs": [
    {
     "name": "stdout",
     "output_type": "stream",
     "text": [
      "1669\n"
     ]
    }
   ],
   "source": [
    "max_size = data.shape[0]\n",
    "randn = np.random.randint(max_size)\n",
    "\n",
    "print(randn)"
   ]
  },
  {
   "cell_type": "code",
   "execution_count": 15,
   "id": "6105c859",
   "metadata": {},
   "outputs": [],
   "source": [
    "def execute(val):\n",
    "    i = val\n",
    "    max_size = data.shape[0]\n",
    "    randn = np.random.randint(max_size)\n",
    "    print(\"running index: \", randn)\n",
    "    twt = []\n",
    "    twt.append(data['cleaned'][randn])\n",
    "    print(\"\\nTweet: \\\"\" + twt[i] + \"\\\"\")\n",
    "    run_alexa(twt[i])\n",
    "    engine.save_to_file(twt[i], 'tweet{$i}.mp3')\n",
    "    return i"
   ]
  },
  {
   "cell_type": "code",
   "execution_count": 16,
   "id": "c0447445",
   "metadata": {},
   "outputs": [
    {
     "name": "stdout",
     "output_type": "stream",
     "text": [
      "running index:  909\n",
      "\n",
      "Tweet: \"funny joke brokenpromises 1 book 150 subjects insight site Marriage is the main reason for divorce https t co HkBKF5Nleu\"\n",
      "running index:  127\n"
     ]
    },
    {
     "ename": "IndexError",
     "evalue": "list index out of range",
     "output_type": "error",
     "traceback": [
      "\u001b[1;31m---------------------------------------------------------------------------\u001b[0m",
      "\u001b[1;31mIndexError\u001b[0m                                Traceback (most recent call last)",
      "\u001b[1;32m<ipython-input-16-1f810888f6e9>\u001b[0m in \u001b[0;36m<module>\u001b[1;34m\u001b[0m\n\u001b[0;32m      6\u001b[0m     \u001b[0msleep\u001b[0m\u001b[1;33m(\u001b[0m\u001b[1;36m21\u001b[0m \u001b[1;33m-\u001b[0m \u001b[0mtime\u001b[0m\u001b[1;33m(\u001b[0m\u001b[1;33m)\u001b[0m \u001b[1;33m%\u001b[0m \u001b[1;36m21\u001b[0m\u001b[1;33m)\u001b[0m\u001b[1;33m\u001b[0m\u001b[1;33m\u001b[0m\u001b[0m\n\u001b[0;32m      7\u001b[0m     \u001b[1;31m# thing to run\u001b[0m\u001b[1;33m\u001b[0m\u001b[1;33m\u001b[0m\u001b[1;33m\u001b[0m\u001b[0m\n\u001b[1;32m----> 8\u001b[1;33m     \u001b[0mret\u001b[0m \u001b[1;33m=\u001b[0m \u001b[0mexecute\u001b[0m\u001b[1;33m(\u001b[0m\u001b[0mval\u001b[0m\u001b[1;33m)\u001b[0m\u001b[1;33m\u001b[0m\u001b[1;33m\u001b[0m\u001b[0m\n\u001b[0m\u001b[0;32m      9\u001b[0m     \u001b[0mret\u001b[0m \u001b[1;33m=\u001b[0m \u001b[0mret\u001b[0m \u001b[1;33m+\u001b[0m \u001b[1;36m1\u001b[0m\u001b[1;33m\u001b[0m\u001b[1;33m\u001b[0m\u001b[0m\n\u001b[0;32m     10\u001b[0m     \u001b[0mval\u001b[0m \u001b[1;33m=\u001b[0m \u001b[0mret\u001b[0m\u001b[1;33m\u001b[0m\u001b[1;33m\u001b[0m\u001b[0m\n",
      "\u001b[1;32m<ipython-input-15-851659f71f80>\u001b[0m in \u001b[0;36mexecute\u001b[1;34m(val)\u001b[0m\n\u001b[0;32m      6\u001b[0m     \u001b[0mtwt\u001b[0m \u001b[1;33m=\u001b[0m \u001b[1;33m[\u001b[0m\u001b[1;33m]\u001b[0m\u001b[1;33m\u001b[0m\u001b[1;33m\u001b[0m\u001b[0m\n\u001b[0;32m      7\u001b[0m     \u001b[0mtwt\u001b[0m\u001b[1;33m.\u001b[0m\u001b[0mappend\u001b[0m\u001b[1;33m(\u001b[0m\u001b[0mdata\u001b[0m\u001b[1;33m[\u001b[0m\u001b[1;34m'cleaned'\u001b[0m\u001b[1;33m]\u001b[0m\u001b[1;33m[\u001b[0m\u001b[0mrandn\u001b[0m\u001b[1;33m]\u001b[0m\u001b[1;33m)\u001b[0m\u001b[1;33m\u001b[0m\u001b[1;33m\u001b[0m\u001b[0m\n\u001b[1;32m----> 8\u001b[1;33m     \u001b[0mprint\u001b[0m\u001b[1;33m(\u001b[0m\u001b[1;34m\"\\nTweet: \\\"\"\u001b[0m \u001b[1;33m+\u001b[0m \u001b[0mtwt\u001b[0m\u001b[1;33m[\u001b[0m\u001b[0mi\u001b[0m\u001b[1;33m]\u001b[0m \u001b[1;33m+\u001b[0m \u001b[1;34m\"\\\"\"\u001b[0m\u001b[1;33m)\u001b[0m\u001b[1;33m\u001b[0m\u001b[1;33m\u001b[0m\u001b[0m\n\u001b[0m\u001b[0;32m      9\u001b[0m     \u001b[0mrun_alexa\u001b[0m\u001b[1;33m(\u001b[0m\u001b[0mtwt\u001b[0m\u001b[1;33m[\u001b[0m\u001b[0mi\u001b[0m\u001b[1;33m]\u001b[0m\u001b[1;33m)\u001b[0m\u001b[1;33m\u001b[0m\u001b[1;33m\u001b[0m\u001b[0m\n\u001b[0;32m     10\u001b[0m     \u001b[0mengine\u001b[0m\u001b[1;33m.\u001b[0m\u001b[0msave_to_file\u001b[0m\u001b[1;33m(\u001b[0m\u001b[0mtwt\u001b[0m\u001b[1;33m[\u001b[0m\u001b[0mi\u001b[0m\u001b[1;33m]\u001b[0m\u001b[1;33m,\u001b[0m \u001b[1;34m'tweet{$i}.mp3'\u001b[0m\u001b[1;33m)\u001b[0m\u001b[1;33m\u001b[0m\u001b[1;33m\u001b[0m\u001b[0m\n",
      "\u001b[1;31mIndexError\u001b[0m: list index out of range"
     ]
    }
   ],
   "source": [
    "from time import time, sleep\n",
    "\n",
    "val = 0\n",
    "\n",
    "while True:\n",
    "    sleep(21 - time() % 21)\n",
    "    # thing to run\n",
    "    ret = execute(val)\n",
    "    ret = ret + 1\n",
    "    val = ret"
   ]
  },
  {
   "cell_type": "code",
   "execution_count": null,
   "id": "465c739c",
   "metadata": {},
   "outputs": [],
   "source": []
  }
 ],
 "metadata": {
  "kernelspec": {
   "display_name": "Python 3",
   "language": "python",
   "name": "python3"
  },
  "language_info": {
   "codemirror_mode": {
    "name": "ipython",
    "version": 3
   },
   "file_extension": ".py",
   "mimetype": "text/x-python",
   "name": "python",
   "nbconvert_exporter": "python",
   "pygments_lexer": "ipython3",
   "version": "3.6.8"
  }
 },
 "nbformat": 4,
 "nbformat_minor": 5
}
