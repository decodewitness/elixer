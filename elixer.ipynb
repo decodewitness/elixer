{
 "cells": [
  {
   "cell_type": "markdown",
   "id": "0343c300",
   "metadata": {},
   "source": [
    "# Elixer.\n",
    "### Alex Like Bot That Reads Scraped Data From Twitter.\n",
    "##### Created by Vera Lo."
   ]
  },
  {
   "cell_type": "code",
   "execution_count": null,
   "id": "a78a8fb6",
   "metadata": {},
   "outputs": [],
   "source": [
    "!python --version"
   ]
  },
  {
   "cell_type": "code",
   "execution_count": null,
   "id": "9706a79d",
   "metadata": {},
   "outputs": [],
   "source": [
    "!pip install SpeechRecognition\n",
    "!pip install pyttsx3\n",
    "!pip install PyAudio # if error lower version python <=3.6\n",
    "!pip install pywhatkit\n",
    "!pip install wikipedia\n",
    "!pip install pyjokes"
   ]
  },
  {
   "cell_type": "code",
   "execution_count": null,
   "id": "05e924db",
   "metadata": {},
   "outputs": [],
   "source": [
    "import speech_recognition as sr\n",
    "import pyttsx3\n",
    "import pywhatkit\n",
    "import datetime\n",
    "import wikipedia\n",
    "import pyjokes"
   ]
  },
  {
   "cell_type": "code",
   "execution_count": null,
   "id": "648fdf28",
   "metadata": {},
   "outputs": [],
   "source": [
    "listener = sr.Recognizer()\n",
    "engine = pyttsx3.init()\n",
    "voices = engine.getProperty('voices')\n",
    "engine.setProperty('voice', voices[1].id)"
   ]
  },
  {
   "cell_type": "code",
   "execution_count": null,
   "id": "83f58294",
   "metadata": {},
   "outputs": [],
   "source": [
    "def talk(text):\n",
    "    engine.say(text)\n",
    "    engine.runAndWait()\n",
    "\n",
    "def run_alexa(c):\n",
    "    commando = c\n",
    "    talk(commando)"
   ]
  },
  {
   "cell_type": "code",
   "execution_count": null,
   "id": "4a6f4266",
   "metadata": {},
   "outputs": [],
   "source": [
    "import pandas as pd\n",
    "import numpy as np"
   ]
  },
  {
   "cell_type": "code",
   "execution_count": null,
   "id": "e7f4fde7",
   "metadata": {},
   "outputs": [],
   "source": [
    "data = pd.read_csv('clean_joke.csv')"
   ]
  },
  {
   "cell_type": "code",
   "execution_count": null,
   "id": "cee220ce",
   "metadata": {},
   "outputs": [],
   "source": [
    "data.head()"
   ]
  },
  {
   "cell_type": "code",
   "execution_count": null,
   "id": "00c31b20",
   "metadata": {},
   "outputs": [],
   "source": [
    "data.shape"
   ]
  },
  {
   "cell_type": "code",
   "execution_count": null,
   "id": "2b8cfda8",
   "metadata": {},
   "outputs": [],
   "source": [
    "rate = engine.getProperty('rate')\n",
    "print (rate)"
   ]
  },
  {
   "cell_type": "code",
   "execution_count": null,
   "id": "f2bed8e3",
   "metadata": {},
   "outputs": [],
   "source": [
    "engine.setProperty('rate', 112) # Decrease the Speed Rate x2"
   ]
  },
  {
   "cell_type": "code",
   "execution_count": null,
   "id": "1ddc4671",
   "metadata": {},
   "outputs": [],
   "source": [
    "max_size = data.shape[0]\n",
    "randn = np.random.randint(max_size)\n",
    "\n",
    "print(randn)"
   ]
  },
  {
   "cell_type": "code",
   "execution_count": null,
   "id": "6105c859",
   "metadata": {},
   "outputs": [],
   "source": [
    "def execute(val):\n",
    "    i = val\n",
    "    max_size = data.shape[0]\n",
    "    randn = np.random.randint(max_size)\n",
    "    print(\"running index: \", randn)\n",
    "    twt = data['cleaned'][randn]\n",
    "    print(\"\\nTweet: \\\"\" + twt + \"\\\"\")\n",
    "    run_alexa(twt)\n",
    "    engine.save_to_file(twt[i], 'tweet{$i}.mp3')\n",
    "    return i, twt"
   ]
  },
  {
   "cell_type": "code",
   "execution_count": null,
   "id": "c0447445",
   "metadata": {},
   "outputs": [],
   "source": [
    "from time import time, sleep\n",
    "\n",
    "val = 0\n",
    "all = []\n",
    "\n",
    "while True:\n",
    "    sleep(100 - time() % 100) # if set to 100 = run every 100 seconds\n",
    "    # thing to run\n",
    "    ret, twe = execute(val)\n",
    "    ret = ret + 1\n",
    "    val = ret\n",
    "    all.append(twe)"
   ]
  }
 ],
 "metadata": {
  "kernelspec": {
   "display_name": "Python 3",
   "language": "python",
   "name": "python3"
  },
  "language_info": {
   "codemirror_mode": {
    "name": "ipython",
    "version": 3
   },
   "file_extension": ".py",
   "mimetype": "text/x-python",
   "name": "python",
   "nbconvert_exporter": "python",
   "pygments_lexer": "ipython3",
   "version": "3.6.8"
  }
 },
 "nbformat": 4,
 "nbformat_minor": 5
}
