{
 "cells": [
  {
   "cell_type": "markdown",
   "id": "5e768dbe",
   "metadata": {},
   "source": [
    "# ElixEr v.0.1-1(alpha)"
   ]
  },
  {
   "cell_type": "markdown",
   "id": "2de6225f",
   "metadata": {},
   "source": [
    "### SCRAPED(1) DATA OF/FROM TWITTER (w/ TWINT)"
   ]
  },
  {
   "cell_type": "code",
   "execution_count": 1,
   "id": "4620c5ca",
   "metadata": {},
   "outputs": [],
   "source": [
    "# from google.colab import drive\n",
    "# drive.mount('gdrive')"
   ]
  },
  {
   "cell_type": "code",
   "execution_count": 2,
   "id": "cf9cfedd",
   "metadata": {},
   "outputs": [
    {
     "name": "stderr",
     "output_type": "stream",
     "text": [
      "A subdirectory or file scraper already exists.\n"
     ]
    }
   ],
   "source": [
    "!mkdir scraper\n",
    "# %mkdir scraper"
   ]
  },
  {
   "cell_type": "code",
   "execution_count": 3,
   "id": "81bca5ef",
   "metadata": {},
   "outputs": [],
   "source": [
    "# %cd /content/gdrive/My Drive/scraper\n",
    "!cd scraper"
   ]
  },
  {
   "cell_type": "code",
   "execution_count": 4,
   "id": "9eb0a867",
   "metadata": {},
   "outputs": [],
   "source": [
    "# !pwd"
   ]
  },
  {
   "cell_type": "code",
   "execution_count": 5,
   "id": "59d9de05",
   "metadata": {},
   "outputs": [],
   "source": [
    "# !ls"
   ]
  },
  {
   "cell_type": "code",
   "execution_count": 6,
   "id": "544db826",
   "metadata": {},
   "outputs": [
    {
     "name": "stdout",
     "output_type": "stream",
     "text": [
      "Requirement already satisfied: nest-asyncio in c:\\users\\vixen\\appdata\\local\\programs\\python\\python36\\lib\\site-packages (1.5.5)\n"
     ]
    }
   ],
   "source": [
    "!pip install nest-asyncio "
   ]
  },
  {
   "cell_type": "code",
   "execution_count": 7,
   "id": "6b229ba7",
   "metadata": {},
   "outputs": [
    {
     "name": "stdout",
     "output_type": "stream",
     "text": [
      "Obtaining twint from git+https://github.com/twintproject/twint.git@origin/master#egg=twint\n",
      "  Updating c:\\users\\vixen\\documents\\0x021.business\\0.00.888.projects\\0x.(dev)\\00x01.(_research_&_science_)\\0x1198.a.i.[_\\research\\elixer\\src\\twint clone (to revision origin/master)\n",
      "  Preparing metadata (setup.py): started\n",
      "  Preparing metadata (setup.py): finished with status 'done'\n",
      "Requirement already satisfied: aiohttp in c:\\users\\vixen\\appdata\\local\\programs\\python\\python36\\lib\\site-packages (from twint) (3.8.1)\n",
      "Requirement already satisfied: aiodns in c:\\users\\vixen\\appdata\\local\\programs\\python\\python36\\lib\\site-packages (from twint) (3.0.0)\n",
      "Requirement already satisfied: beautifulsoup4 in c:\\users\\vixen\\appdata\\local\\programs\\python\\python36\\lib\\site-packages (from twint) (4.11.1)\n",
      "Requirement already satisfied: cchardet in c:\\users\\vixen\\appdata\\local\\programs\\python\\python36\\lib\\site-packages (from twint) (2.1.7)\n",
      "Requirement already satisfied: dataclasses in c:\\users\\vixen\\appdata\\local\\programs\\python\\python36\\lib\\site-packages (from twint) (0.8)\n",
      "Requirement already satisfied: elasticsearch in c:\\users\\vixen\\appdata\\local\\programs\\python\\python36\\lib\\site-packages (from twint) (8.3.3)\n",
      "Requirement already satisfied: pysocks in c:\\users\\vixen\\appdata\\local\\programs\\python\\python36\\lib\\site-packages (from twint) (1.7.1)\n",
      "Requirement already satisfied: pandas in c:\\users\\vixen\\appdata\\local\\programs\\python\\python36\\lib\\site-packages (from twint) (1.1.5)\n",
      "Requirement already satisfied: aiohttp_socks in c:\\users\\vixen\\appdata\\local\\programs\\python\\python36\\lib\\site-packages (from twint) (0.7.1)\n",
      "Requirement already satisfied: schedule in c:\\users\\vixen\\appdata\\local\\programs\\python\\python36\\lib\\site-packages (from twint) (1.1.0)\n",
      "Requirement already satisfied: geopy in c:\\users\\vixen\\appdata\\local\\programs\\python\\python36\\lib\\site-packages (from twint) (2.2.0)\n",
      "Requirement already satisfied: fake-useragent in c:\\users\\vixen\\appdata\\local\\programs\\python\\python36\\lib\\site-packages (from twint) (0.1.11)\n",
      "Requirement already satisfied: googletransx in c:\\users\\vixen\\appdata\\local\\programs\\python\\python36\\lib\\site-packages (from twint) (2.4.2)\n",
      "Requirement already satisfied: pycares>=4.0.0 in c:\\users\\vixen\\appdata\\local\\programs\\python\\python36\\lib\\site-packages (from aiodns->twint) (4.2.2)\n",
      "Requirement already satisfied: typing-extensions>=3.7.4 in c:\\users\\vixen\\appdata\\local\\programs\\python\\python36\\lib\\site-packages (from aiohttp->twint) (4.1.1)\n",
      "Requirement already satisfied: async-timeout<5.0,>=4.0.0a3 in c:\\users\\vixen\\appdata\\local\\programs\\python\\python36\\lib\\site-packages (from aiohttp->twint) (4.0.2)\n",
      "Requirement already satisfied: idna-ssl>=1.0 in c:\\users\\vixen\\appdata\\local\\programs\\python\\python36\\lib\\site-packages (from aiohttp->twint) (1.1.0)\n",
      "Requirement already satisfied: charset-normalizer<3.0,>=2.0 in c:\\users\\vixen\\appdata\\local\\programs\\python\\python36\\lib\\site-packages (from aiohttp->twint) (2.0.12)\n",
      "Requirement already satisfied: multidict<7.0,>=4.5 in c:\\users\\vixen\\appdata\\local\\programs\\python\\python36\\lib\\site-packages (from aiohttp->twint) (5.2.0)\n",
      "Requirement already satisfied: yarl<2.0,>=1.0 in c:\\users\\vixen\\appdata\\local\\programs\\python\\python36\\lib\\site-packages (from aiohttp->twint) (1.7.2)\n",
      "Requirement already satisfied: frozenlist>=1.1.1 in c:\\users\\vixen\\appdata\\local\\programs\\python\\python36\\lib\\site-packages (from aiohttp->twint) (1.2.0)\n",
      "Requirement already satisfied: attrs>=17.3.0 in c:\\users\\vixen\\appdata\\local\\programs\\python\\python36\\lib\\site-packages (from aiohttp->twint) (22.1.0)\n",
      "Requirement already satisfied: asynctest==0.13.0 in c:\\users\\vixen\\appdata\\local\\programs\\python\\python36\\lib\\site-packages (from aiohttp->twint) (0.13.0)\n",
      "Requirement already satisfied: aiosignal>=1.1.2 in c:\\users\\vixen\\appdata\\local\\programs\\python\\python36\\lib\\site-packages (from aiohttp->twint) (1.2.0)\n",
      "Requirement already satisfied: python-socks[asyncio]<3.0.0,>=2.0.0 in c:\\users\\vixen\\appdata\\local\\programs\\python\\python36\\lib\\site-packages (from aiohttp_socks->twint) (2.0.3)\n",
      "Requirement already satisfied: soupsieve>1.2 in c:\\users\\vixen\\appdata\\local\\programs\\python\\python36\\lib\\site-packages (from beautifulsoup4->twint) (2.3.2.post1)\n",
      "Requirement already satisfied: elastic-transport<9,>=8 in c:\\users\\vixen\\appdata\\local\\programs\\python\\python36\\lib\\site-packages (from elasticsearch->twint) (8.1.2)\n",
      "Requirement already satisfied: geographiclib<2,>=1.49 in c:\\users\\vixen\\appdata\\local\\programs\\python\\python36\\lib\\site-packages (from geopy->twint) (1.52)\n",
      "Requirement already satisfied: requests in c:\\users\\vixen\\appdata\\local\\programs\\python\\python36\\lib\\site-packages (from googletransx->twint) (2.27.1)\n",
      "Requirement already satisfied: python-dateutil>=2.7.3 in c:\\users\\vixen\\appdata\\local\\programs\\python\\python36\\lib\\site-packages (from pandas->twint) (2.8.2)\n",
      "Requirement already satisfied: pytz>=2017.2 in c:\\users\\vixen\\appdata\\local\\programs\\python\\python36\\lib\\site-packages (from pandas->twint) (2022.2)\n",
      "Requirement already satisfied: numpy>=1.15.4 in c:\\users\\vixen\\appdata\\local\\programs\\python\\python36\\lib\\site-packages (from pandas->twint) (1.19.5)\n",
      "Requirement already satisfied: urllib3<2,>=1.26.2 in c:\\users\\vixen\\appdata\\local\\programs\\python\\python36\\lib\\site-packages (from elastic-transport<9,>=8->elasticsearch->twint) (1.26.11)\n",
      "Requirement already satisfied: certifi in c:\\users\\vixen\\appdata\\local\\programs\\python\\python36\\lib\\site-packages (from elastic-transport<9,>=8->elasticsearch->twint) (2022.6.15)\n",
      "Requirement already satisfied: idna>=2.0 in c:\\users\\vixen\\appdata\\local\\programs\\python\\python36\\lib\\site-packages (from idna-ssl>=1.0->aiohttp->twint) (3.3)\n",
      "Requirement already satisfied: cffi>=1.5.0 in c:\\users\\vixen\\appdata\\local\\programs\\python\\python36\\lib\\site-packages (from pycares>=4.0.0->aiodns->twint) (1.15.1)\n",
      "Requirement already satisfied: six>=1.5 in c:\\users\\vixen\\appdata\\local\\programs\\python\\python36\\lib\\site-packages (from python-dateutil>=2.7.3->pandas->twint) (1.16.0)\n",
      "Requirement already satisfied: pycparser in c:\\users\\vixen\\appdata\\local\\programs\\python\\python36\\lib\\site-packages (from cffi>=1.5.0->pycares>=4.0.0->aiodns->twint) (2.21)\n",
      "Installing collected packages: twint\n",
      "  Attempting uninstall: twint\n",
      "    Found existing installation: twint 2.1.21\n",
      "    Uninstalling twint-2.1.21:\n",
      "      Successfully uninstalled twint-2.1.21\n",
      "  Running setup.py develop for twint\n",
      "Successfully installed twint-2.1.21\n"
     ]
    },
    {
     "name": "stderr",
     "output_type": "stream",
     "text": [
      "  Running command git fetch -q --tags\n",
      "  WARNING: Did not find branch or tag 'origin/master', assuming revision or ref.\n",
      "  Running command git reset --hard -q origin/master\n"
     ]
    }
   ],
   "source": [
    "# Upgrade Twint\n",
    "#!pip3 install --user --upgrade git+https://github.com/twintproject/twint.git@origin/master#egg=twint\n",
    "\n",
    "!pip3 install --upgrade -e \"git+https://github.com/twintproject/twint.git@origin/master#egg=twint\""
   ]
  },
  {
   "cell_type": "code",
   "execution_count": 8,
   "id": "b764c9d3",
   "metadata": {},
   "outputs": [],
   "source": [
    "# !mv src/twint .\n",
    "# !rm -r src"
   ]
  },
  {
   "cell_type": "code",
   "execution_count": 9,
   "id": "f6994990",
   "metadata": {},
   "outputs": [],
   "source": [
    "%load_ext autoreload\n",
    "%autoreload\n",
    "import sys\n",
    "sys.path.append(\"twint/\")"
   ]
  },
  {
   "cell_type": "code",
   "execution_count": 10,
   "id": "9780bdd2",
   "metadata": {},
   "outputs": [],
   "source": [
    "import twint\n",
    "import pandas as pd\n",
    "import nest_asyncio\n",
    "nest_asyncio.apply()"
   ]
  },
  {
   "cell_type": "code",
   "execution_count": 11,
   "id": "fc19982c",
   "metadata": {},
   "outputs": [],
   "source": [
    "# c.Search is the term to search for on Twitter, c.Username is the @handle.\n",
    "c = twint.Config()\n",
    "c.Pandas = True\n",
    "c.Store_csv = True\n",
    "#c.Username = \"knowledge\"\n",
    "c.Search = \"#joke\"\n",
    "c.Limit = 210\n",
    "c.Since = \"2022-07-19\"\n",
    "c.Until = \"2022-08-19\"\n",
    "c.Lang = 'en'"
   ]
  },
  {
   "cell_type": "code",
   "execution_count": null,
   "id": "1c732dd6",
   "metadata": {},
   "outputs": [],
   "source": [
    "twint.run.Search(c)"
   ]
  },
  {
   "cell_type": "code",
   "execution_count": 13,
   "id": "5367d677",
   "metadata": {},
   "outputs": [
    {
     "data": {
      "text/plain": [
       "1018"
      ]
     },
     "execution_count": 13,
     "metadata": {},
     "output_type": "execute_result"
    }
   ],
   "source": [
    "twint.storage.panda.Tweets_df['tweet'].count()"
   ]
  },
  {
   "cell_type": "code",
   "execution_count": 14,
   "id": "5a511123",
   "metadata": {},
   "outputs": [
    {
     "data": {
      "text/plain": [
       "id                 1018\n",
       "conversation_id    1018\n",
       "created_at         1018\n",
       "date               1018\n",
       "timezone           1018\n",
       "place              1018\n",
       "tweet              1018\n",
       "language           1018\n",
       "hashtags           1018\n",
       "cashtags           1018\n",
       "user_id            1018\n",
       "user_id_str        1018\n",
       "username           1018\n",
       "name               1018\n",
       "day                1018\n",
       "hour               1018\n",
       "link               1018\n",
       "urls               1018\n",
       "photos             1018\n",
       "video              1018\n",
       "thumbnail          1018\n",
       "retweet            1018\n",
       "nlikes             1018\n",
       "nreplies           1018\n",
       "nretweets          1018\n",
       "quote_url          1018\n",
       "search             1018\n",
       "near               1018\n",
       "geo                1018\n",
       "source             1018\n",
       "user_rt_id         1018\n",
       "user_rt            1018\n",
       "retweet_id         1018\n",
       "reply_to           1018\n",
       "retweet_date       1018\n",
       "translate          1018\n",
       "trans_src          1018\n",
       "trans_dest         1018\n",
       "dtype: int64"
      ]
     },
     "execution_count": 14,
     "metadata": {},
     "output_type": "execute_result"
    }
   ],
   "source": [
    "twint.storage.panda.Tweets_df.count()"
   ]
  },
  {
   "cell_type": "code",
   "execution_count": 15,
   "id": "044d9239",
   "metadata": {},
   "outputs": [
    {
     "data": {
      "text/html": [
       "<div>\n",
       "<style scoped>\n",
       "    .dataframe tbody tr th:only-of-type {\n",
       "        vertical-align: middle;\n",
       "    }\n",
       "\n",
       "    .dataframe tbody tr th {\n",
       "        vertical-align: top;\n",
       "    }\n",
       "\n",
       "    .dataframe thead th {\n",
       "        text-align: right;\n",
       "    }\n",
       "</style>\n",
       "<table border=\"1\" class=\"dataframe\">\n",
       "  <thead>\n",
       "    <tr style=\"text-align: right;\">\n",
       "      <th></th>\n",
       "      <th>id</th>\n",
       "      <th>conversation_id</th>\n",
       "      <th>created_at</th>\n",
       "      <th>date</th>\n",
       "      <th>timezone</th>\n",
       "      <th>place</th>\n",
       "      <th>tweet</th>\n",
       "      <th>language</th>\n",
       "      <th>hashtags</th>\n",
       "      <th>cashtags</th>\n",
       "      <th>...</th>\n",
       "      <th>geo</th>\n",
       "      <th>source</th>\n",
       "      <th>user_rt_id</th>\n",
       "      <th>user_rt</th>\n",
       "      <th>retweet_id</th>\n",
       "      <th>reply_to</th>\n",
       "      <th>retweet_date</th>\n",
       "      <th>translate</th>\n",
       "      <th>trans_src</th>\n",
       "      <th>trans_dest</th>\n",
       "    </tr>\n",
       "  </thead>\n",
       "  <tbody>\n",
       "    <tr>\n",
       "      <th>0</th>\n",
       "      <td>1560414541254729728</td>\n",
       "      <td>1560414541254729728</td>\n",
       "      <td>1.660867e+12</td>\n",
       "      <td>2022-08-19 01:53:12</td>\n",
       "      <td>+0200</td>\n",
       "      <td></td>\n",
       "      <td>Anyone in need of some cash wanna come over an...</td>\n",
       "      <td>en</td>\n",
       "      <td>[joke]</td>\n",
       "      <td>[]</td>\n",
       "      <td>...</td>\n",
       "      <td></td>\n",
       "      <td></td>\n",
       "      <td></td>\n",
       "      <td></td>\n",
       "      <td></td>\n",
       "      <td>[]</td>\n",
       "      <td></td>\n",
       "      <td></td>\n",
       "      <td></td>\n",
       "      <td></td>\n",
       "    </tr>\n",
       "    <tr>\n",
       "      <th>1</th>\n",
       "      <td>1560413890231635973</td>\n",
       "      <td>1560413861857181697</td>\n",
       "      <td>1.660867e+12</td>\n",
       "      <td>2022-08-19 01:50:37</td>\n",
       "      <td>+0200</td>\n",
       "      <td></td>\n",
       "      <td>errr @randomtrump1 @RealDonaldTrump #joke : 'H...</td>\n",
       "      <td>en</td>\n",
       "      <td>[joke, trump, maga, racistinchief, rapistinchi...</td>\n",
       "      <td>[]</td>\n",
       "      <td>...</td>\n",
       "      <td></td>\n",
       "      <td></td>\n",
       "      <td></td>\n",
       "      <td></td>\n",
       "      <td></td>\n",
       "      <td>[]</td>\n",
       "      <td></td>\n",
       "      <td></td>\n",
       "      <td></td>\n",
       "      <td></td>\n",
       "    </tr>\n",
       "    <tr>\n",
       "      <th>2</th>\n",
       "      <td>1560413582088601600</td>\n",
       "      <td>1560413582088601600</td>\n",
       "      <td>1.660867e+12</td>\n",
       "      <td>2022-08-19 01:49:23</td>\n",
       "      <td>+0200</td>\n",
       "      <td></td>\n",
       "      <td>I am not groot, I am Tree @CommeEddie  #IAmGro...</td>\n",
       "      <td>en</td>\n",
       "      <td>[iamgroot, marvel, fun, joke, jokes, funniestt...</td>\n",
       "      <td>[]</td>\n",
       "      <td>...</td>\n",
       "      <td></td>\n",
       "      <td></td>\n",
       "      <td></td>\n",
       "      <td></td>\n",
       "      <td></td>\n",
       "      <td>[]</td>\n",
       "      <td></td>\n",
       "      <td></td>\n",
       "      <td></td>\n",
       "      <td></td>\n",
       "    </tr>\n",
       "    <tr>\n",
       "      <th>3</th>\n",
       "      <td>1560411661692833793</td>\n",
       "      <td>1560411661692833793</td>\n",
       "      <td>1.660866e+12</td>\n",
       "      <td>2022-08-19 01:41:45</td>\n",
       "      <td>+0200</td>\n",
       "      <td></td>\n",
       "      <td>No kidding!!!  #alarmclock #joke  https://t.co...</td>\n",
       "      <td>en</td>\n",
       "      <td>[alarmclock, joke]</td>\n",
       "      <td>[]</td>\n",
       "      <td>...</td>\n",
       "      <td></td>\n",
       "      <td></td>\n",
       "      <td></td>\n",
       "      <td></td>\n",
       "      <td></td>\n",
       "      <td>[]</td>\n",
       "      <td></td>\n",
       "      <td></td>\n",
       "      <td></td>\n",
       "      <td></td>\n",
       "    </tr>\n",
       "    <tr>\n",
       "      <th>4</th>\n",
       "      <td>1560411198092443648</td>\n",
       "      <td>1560411198092443648</td>\n",
       "      <td>1.660866e+12</td>\n",
       "      <td>2022-08-19 01:39:55</td>\n",
       "      <td>+0200</td>\n",
       "      <td></td>\n",
       "      <td>Czym się rózni Yordle od Karła ?  Niektórzy lu...</td>\n",
       "      <td>pl</td>\n",
       "      <td>[joke, teemo, norbertwiadomojaki]</td>\n",
       "      <td>[]</td>\n",
       "      <td>...</td>\n",
       "      <td></td>\n",
       "      <td></td>\n",
       "      <td></td>\n",
       "      <td></td>\n",
       "      <td></td>\n",
       "      <td>[]</td>\n",
       "      <td></td>\n",
       "      <td></td>\n",
       "      <td></td>\n",
       "      <td></td>\n",
       "    </tr>\n",
       "  </tbody>\n",
       "</table>\n",
       "<p>5 rows × 38 columns</p>\n",
       "</div>"
      ],
      "text/plain": [
       "                    id      conversation_id    created_at  \\\n",
       "0  1560414541254729728  1560414541254729728  1.660867e+12   \n",
       "1  1560413890231635973  1560413861857181697  1.660867e+12   \n",
       "2  1560413582088601600  1560413582088601600  1.660867e+12   \n",
       "3  1560411661692833793  1560411661692833793  1.660866e+12   \n",
       "4  1560411198092443648  1560411198092443648  1.660866e+12   \n",
       "\n",
       "                  date timezone place  \\\n",
       "0  2022-08-19 01:53:12    +0200         \n",
       "1  2022-08-19 01:50:37    +0200         \n",
       "2  2022-08-19 01:49:23    +0200         \n",
       "3  2022-08-19 01:41:45    +0200         \n",
       "4  2022-08-19 01:39:55    +0200         \n",
       "\n",
       "                                               tweet language  \\\n",
       "0  Anyone in need of some cash wanna come over an...       en   \n",
       "1  errr @randomtrump1 @RealDonaldTrump #joke : 'H...       en   \n",
       "2  I am not groot, I am Tree @CommeEddie  #IAmGro...       en   \n",
       "3  No kidding!!!  #alarmclock #joke  https://t.co...       en   \n",
       "4  Czym się rózni Yordle od Karła ?  Niektórzy lu...       pl   \n",
       "\n",
       "                                            hashtags cashtags  ...  geo  \\\n",
       "0                                             [joke]       []  ...        \n",
       "1  [joke, trump, maga, racistinchief, rapistinchi...       []  ...        \n",
       "2  [iamgroot, marvel, fun, joke, jokes, funniestt...       []  ...        \n",
       "3                                 [alarmclock, joke]       []  ...        \n",
       "4                  [joke, teemo, norbertwiadomojaki]       []  ...        \n",
       "\n",
       "  source user_rt_id user_rt  retweet_id reply_to retweet_date translate  \\\n",
       "0                                             []                          \n",
       "1                                             []                          \n",
       "2                                             []                          \n",
       "3                                             []                          \n",
       "4                                             []                          \n",
       "\n",
       "  trans_src  trans_dest  \n",
       "0                        \n",
       "1                        \n",
       "2                        \n",
       "3                        \n",
       "4                        \n",
       "\n",
       "[5 rows x 38 columns]"
      ]
     },
     "execution_count": 15,
     "metadata": {},
     "output_type": "execute_result"
    }
   ],
   "source": [
    "twint.storage.panda.Tweets_df.head()"
   ]
  },
  {
   "cell_type": "code",
   "execution_count": 16,
   "id": "ef8b0aff",
   "metadata": {},
   "outputs": [
    {
     "data": {
      "text/plain": [
       "'Anyone in need of some cash wanna come over and paint the walls of my study for me, my back &amp; workload ain’t having it? 😅 #Joke   But seriously, I’ve been wanting to paint these walls since we moved in. So depressing. 🤢  https://t.co/UGJWxTjdi5'"
      ]
     },
     "execution_count": 16,
     "metadata": {},
     "output_type": "execute_result"
    }
   ],
   "source": [
    "twint.storage.panda.Tweets_df['tweet'][0]"
   ]
  },
  {
   "cell_type": "code",
   "execution_count": 17,
   "id": "c52608c8",
   "metadata": {},
   "outputs": [],
   "source": [
    "# !ls"
   ]
  },
  {
   "cell_type": "code",
   "execution_count": 18,
   "id": "98f2dc63",
   "metadata": {},
   "outputs": [],
   "source": [
    "twint.storage.panda.Tweets_df.to_csv('joke.csv')\n",
    "# !cp 'joke.csv' \"gdrive/My Drive/scrapes/joke.csv\""
   ]
  },
  {
   "cell_type": "markdown",
   "id": "392030c5",
   "metadata": {},
   "source": [
    "## CLEANING DATATA"
   ]
  },
  {
   "cell_type": "code",
   "execution_count": 19,
   "id": "ca9b6e65",
   "metadata": {},
   "outputs": [],
   "source": [
    "import numpy as np\n",
    "import pandas as pd\n",
    "\n",
    "import matplotlib.pyplot as plt\n",
    "import seaborn as sns"
   ]
  },
  {
   "cell_type": "code",
   "execution_count": 20,
   "id": "36cbbc27",
   "metadata": {},
   "outputs": [
    {
     "data": {
      "text/plain": [
       "(2501, 39)"
      ]
     },
     "execution_count": 20,
     "metadata": {},
     "output_type": "execute_result"
    }
   ],
   "source": [
    "data = pd.read_csv('jokes.csv')\n",
    "\n",
    "data.shape"
   ]
  },
  {
   "cell_type": "code",
   "execution_count": 21,
   "id": "c0d4c71d",
   "metadata": {},
   "outputs": [
    {
     "data": {
      "text/html": [
       "<div>\n",
       "<style scoped>\n",
       "    .dataframe tbody tr th:only-of-type {\n",
       "        vertical-align: middle;\n",
       "    }\n",
       "\n",
       "    .dataframe tbody tr th {\n",
       "        vertical-align: top;\n",
       "    }\n",
       "\n",
       "    .dataframe thead th {\n",
       "        text-align: right;\n",
       "    }\n",
       "</style>\n",
       "<table border=\"1\" class=\"dataframe\">\n",
       "  <thead>\n",
       "    <tr style=\"text-align: right;\">\n",
       "      <th></th>\n",
       "      <th>Unnamed: 0</th>\n",
       "      <th>id</th>\n",
       "      <th>conversation_id</th>\n",
       "      <th>created_at</th>\n",
       "      <th>date</th>\n",
       "      <th>timezone</th>\n",
       "      <th>place</th>\n",
       "      <th>tweet</th>\n",
       "      <th>language</th>\n",
       "      <th>hashtags</th>\n",
       "      <th>...</th>\n",
       "      <th>geo</th>\n",
       "      <th>source</th>\n",
       "      <th>user_rt_id</th>\n",
       "      <th>user_rt</th>\n",
       "      <th>retweet_id</th>\n",
       "      <th>reply_to</th>\n",
       "      <th>retweet_date</th>\n",
       "      <th>translate</th>\n",
       "      <th>trans_src</th>\n",
       "      <th>trans_dest</th>\n",
       "    </tr>\n",
       "  </thead>\n",
       "  <tbody>\n",
       "    <tr>\n",
       "      <th>0</th>\n",
       "      <td>0</td>\n",
       "      <td>1560414541254729728</td>\n",
       "      <td>1560414541254729728</td>\n",
       "      <td>1.660867e+12</td>\n",
       "      <td>2022-08-18 23:53:12</td>\n",
       "      <td>0</td>\n",
       "      <td>NaN</td>\n",
       "      <td>Anyone in need of some cash wanna come over an...</td>\n",
       "      <td>en</td>\n",
       "      <td>['joke']</td>\n",
       "      <td>...</td>\n",
       "      <td>NaN</td>\n",
       "      <td>NaN</td>\n",
       "      <td>NaN</td>\n",
       "      <td>NaN</td>\n",
       "      <td>NaN</td>\n",
       "      <td>[]</td>\n",
       "      <td>NaN</td>\n",
       "      <td>NaN</td>\n",
       "      <td>NaN</td>\n",
       "      <td>NaN</td>\n",
       "    </tr>\n",
       "    <tr>\n",
       "      <th>1</th>\n",
       "      <td>1</td>\n",
       "      <td>1560413890231635973</td>\n",
       "      <td>1560413861857181697</td>\n",
       "      <td>1.660867e+12</td>\n",
       "      <td>2022-08-18 23:50:37</td>\n",
       "      <td>0</td>\n",
       "      <td>NaN</td>\n",
       "      <td>errr @randomtrump1 @RealDonaldTrump #joke : 'H...</td>\n",
       "      <td>en</td>\n",
       "      <td>['joke', 'trump', 'maga', 'racistinchief', 'ra...</td>\n",
       "      <td>...</td>\n",
       "      <td>NaN</td>\n",
       "      <td>NaN</td>\n",
       "      <td>NaN</td>\n",
       "      <td>NaN</td>\n",
       "      <td>NaN</td>\n",
       "      <td>[]</td>\n",
       "      <td>NaN</td>\n",
       "      <td>NaN</td>\n",
       "      <td>NaN</td>\n",
       "      <td>NaN</td>\n",
       "    </tr>\n",
       "    <tr>\n",
       "      <th>2</th>\n",
       "      <td>2</td>\n",
       "      <td>1560413582088601600</td>\n",
       "      <td>1560413582088601600</td>\n",
       "      <td>1.660867e+12</td>\n",
       "      <td>2022-08-18 23:49:23</td>\n",
       "      <td>0</td>\n",
       "      <td>NaN</td>\n",
       "      <td>I am not groot, I am Tree @CommeEddie  #IAmGro...</td>\n",
       "      <td>en</td>\n",
       "      <td>['iamgroot', 'marvel', 'fun', 'joke', 'jokes',...</td>\n",
       "      <td>...</td>\n",
       "      <td>NaN</td>\n",
       "      <td>NaN</td>\n",
       "      <td>NaN</td>\n",
       "      <td>NaN</td>\n",
       "      <td>NaN</td>\n",
       "      <td>[]</td>\n",
       "      <td>NaN</td>\n",
       "      <td>NaN</td>\n",
       "      <td>NaN</td>\n",
       "      <td>NaN</td>\n",
       "    </tr>\n",
       "  </tbody>\n",
       "</table>\n",
       "<p>3 rows × 39 columns</p>\n",
       "</div>"
      ],
      "text/plain": [
       "   Unnamed: 0                   id      conversation_id    created_at  \\\n",
       "0           0  1560414541254729728  1560414541254729728  1.660867e+12   \n",
       "1           1  1560413890231635973  1560413861857181697  1.660867e+12   \n",
       "2           2  1560413582088601600  1560413582088601600  1.660867e+12   \n",
       "\n",
       "                  date  timezone place  \\\n",
       "0  2022-08-18 23:53:12         0   NaN   \n",
       "1  2022-08-18 23:50:37         0   NaN   \n",
       "2  2022-08-18 23:49:23         0   NaN   \n",
       "\n",
       "                                               tweet language  \\\n",
       "0  Anyone in need of some cash wanna come over an...       en   \n",
       "1  errr @randomtrump1 @RealDonaldTrump #joke : 'H...       en   \n",
       "2  I am not groot, I am Tree @CommeEddie  #IAmGro...       en   \n",
       "\n",
       "                                            hashtags  ... geo  source  \\\n",
       "0                                           ['joke']  ... NaN     NaN   \n",
       "1  ['joke', 'trump', 'maga', 'racistinchief', 'ra...  ... NaN     NaN   \n",
       "2  ['iamgroot', 'marvel', 'fun', 'joke', 'jokes',...  ... NaN     NaN   \n",
       "\n",
       "   user_rt_id user_rt retweet_id  reply_to  retweet_date translate trans_src  \\\n",
       "0         NaN     NaN        NaN        []           NaN       NaN       NaN   \n",
       "1         NaN     NaN        NaN        []           NaN       NaN       NaN   \n",
       "2         NaN     NaN        NaN        []           NaN       NaN       NaN   \n",
       "\n",
       "  trans_dest  \n",
       "0        NaN  \n",
       "1        NaN  \n",
       "2        NaN  \n",
       "\n",
       "[3 rows x 39 columns]"
      ]
     },
     "execution_count": 21,
     "metadata": {},
     "output_type": "execute_result"
    }
   ],
   "source": [
    "data.head(3)"
   ]
  },
  {
   "cell_type": "code",
   "execution_count": 22,
   "id": "b343c9e7",
   "metadata": {},
   "outputs": [
    {
     "data": {
      "text/plain": [
       "Unnamed: 0            0\n",
       "id                    0\n",
       "conversation_id       0\n",
       "created_at            0\n",
       "date                  0\n",
       "timezone              0\n",
       "place              2491\n",
       "tweet                 0\n",
       "language              0\n",
       "hashtags              0\n",
       "cashtags              0\n",
       "user_id               0\n",
       "user_id_str           0\n",
       "username              0\n",
       "name                  0\n",
       "day                   0\n",
       "hour                  0\n",
       "link                  0\n",
       "urls                  0\n",
       "photos                0\n",
       "video                 0\n",
       "thumbnail          1413\n",
       "retweet               0\n",
       "nlikes                0\n",
       "nreplies              0\n",
       "nretweets             0\n",
       "quote_url          2398\n",
       "search                0\n",
       "near               2501\n",
       "geo                2501\n",
       "source             2501\n",
       "user_rt_id         2501\n",
       "user_rt            2501\n",
       "retweet_id         2501\n",
       "reply_to              0\n",
       "retweet_date       2501\n",
       "translate          2501\n",
       "trans_src          2501\n",
       "trans_dest         2501\n",
       "dtype: int64"
      ]
     },
     "execution_count": 22,
     "metadata": {},
     "output_type": "execute_result"
    }
   ],
   "source": [
    "data.isnull().sum()"
   ]
  },
  {
   "cell_type": "code",
   "execution_count": 23,
   "id": "06e4e1f2",
   "metadata": {},
   "outputs": [],
   "source": [
    "import re\n",
    "import nltk\n",
    "from nltk.tokenize import RegexpTokenizer"
   ]
  },
  {
   "cell_type": "code",
   "execution_count": 24,
   "id": "f946bbf9",
   "metadata": {},
   "outputs": [],
   "source": [
    "def non_ascii(s):\n",
    "    return \"\".join(i for i in s if ord(i)<128)\n",
    "\n",
    "def lower(text):\n",
    "    return text.lower()\n",
    "\n",
    "def clean_links(text):\n",
    "    txt = re.compile('http[s]{1}://[\\w+][.]{1}[\\w+][.]{1}[\\w]{2,3}')\n",
    "    return txt.sub(r'', text)\n",
    "\n",
    "def clean_html(text):\n",
    "    html = re.compile('<.*?>')\n",
    "    return html.sub(r'', text)\n",
    "\n",
    "def punct(text):\n",
    "    token = RegexpTokenizer(r'\\w+')\n",
    "    text = token.tokenize(text)\n",
    "    text = \" \".join(text)\n",
    "    return text"
   ]
  },
  {
   "cell_type": "code",
   "execution_count": 25,
   "id": "32a4c267",
   "metadata": {},
   "outputs": [],
   "source": [
    "data['cleaned'] = data['tweet'].apply(non_ascii)\n",
    "data['cleaned'] = data['tweet'].apply(lower)\n",
    "data['cleaned'] = data['tweet'].apply(clean_links)\n",
    "data['cleaned'] = data['tweet'].apply(clean_html)\n",
    "data['cleaned'] = data['tweet'].apply(punct)"
   ]
  },
  {
   "cell_type": "code",
   "execution_count": 26,
   "id": "56b145fd",
   "metadata": {},
   "outputs": [
    {
     "data": {
      "text/plain": [
       "0    Anyone in need of some cash wanna come over an...\n",
       "1    errr randomtrump1 RealDonaldTrump joke His cor...\n",
       "2    I am not groot I am Tree CommeEddie IAmGroot M...\n",
       "3     No kidding alarmclock joke https t co 2D1cHOjWLx\n",
       "4    Czym się rózni Yordle od Karła Niektórzy lubią...\n",
       "Name: cleaned, dtype: object"
      ]
     },
     "execution_count": 26,
     "metadata": {},
     "output_type": "execute_result"
    }
   ],
   "source": [
    "data['cleaned'].head()"
   ]
  },
  {
   "cell_type": "code",
   "execution_count": 27,
   "id": "f739b397",
   "metadata": {},
   "outputs": [
    {
     "name": "stdout",
     "output_type": "stream",
     "text": [
      "Anyone in need of some cash wanna come over and paint the walls of my study for me my back amp workload ain t having it Joke But seriously I ve been wanting to paint these walls since we moved in So depressing https t co UGJWxTjdi5\n"
     ]
    }
   ],
   "source": [
    "print(data['cleaned'][0])"
   ]
  },
  {
   "cell_type": "code",
   "execution_count": 28,
   "id": "57ddf851",
   "metadata": {},
   "outputs": [
    {
     "name": "stdout",
     "output_type": "stream",
     "text": [
      "I am not groot I am Tree CommeEddie IAmGroot Marvel fun joke jokes funniesttweets laughs laughing MarvelAvengers https t co OR1IkVzzgO\n"
     ]
    }
   ],
   "source": [
    "print(data['cleaned'][2])"
   ]
  },
  {
   "cell_type": "code",
   "execution_count": 29,
   "id": "7a9b9ce2",
   "metadata": {},
   "outputs": [],
   "source": [
    "data.to_csv(\"clean_jokes.csv\")"
   ]
  },
  {
   "cell_type": "markdown",
   "id": "0343c300",
   "metadata": {},
   "source": [
    "# Adding the final ingredients -> (ELIXER).\n",
    "\n",
    "### Alexa Like Bot voice"
   ]
  },
  {
   "cell_type": "code",
   "execution_count": 30,
   "id": "a78a8fb6",
   "metadata": {},
   "outputs": [
    {
     "name": "stdout",
     "output_type": "stream",
     "text": [
      "Python 3.6.8\n"
     ]
    }
   ],
   "source": [
    "!python --version"
   ]
  },
  {
   "cell_type": "code",
   "execution_count": 31,
   "id": "9706a79d",
   "metadata": {},
   "outputs": [
    {
     "name": "stdout",
     "output_type": "stream",
     "text": [
      "Requirement already satisfied: SpeechRecognition in c:\\users\\vixen\\appdata\\local\\programs\\python\\python36\\lib\\site-packages (3.8.1)\n",
      "Requirement already satisfied: pyttsx3 in c:\\users\\vixen\\appdata\\local\\programs\\python\\python36\\lib\\site-packages (2.90)\n",
      "Requirement already satisfied: pypiwin32 in c:\\users\\vixen\\appdata\\local\\programs\\python\\python36\\lib\\site-packages (from pyttsx3) (223)\n",
      "Requirement already satisfied: comtypes in c:\\users\\vixen\\appdata\\local\\programs\\python\\python36\\lib\\site-packages (from pyttsx3) (1.1.13)\n",
      "Requirement already satisfied: pywin32 in c:\\users\\vixen\\appdata\\local\\programs\\python\\python36\\lib\\site-packages (from pyttsx3) (304)\n"
     ]
    },
    {
     "name": "stderr",
     "output_type": "stream",
     "text": [
      "The system cannot find the file specified.\n"
     ]
    },
    {
     "name": "stdout",
     "output_type": "stream",
     "text": [
      "Requirement already satisfied: pywhatkit in c:\\users\\vixen\\appdata\\local\\programs\\python\\python36\\lib\\site-packages (5.4)\n",
      "Requirement already satisfied: requests in c:\\users\\vixen\\appdata\\local\\programs\\python\\python36\\lib\\site-packages (from pywhatkit) (2.27.1)\n",
      "Requirement already satisfied: wikipedia in c:\\users\\vixen\\appdata\\local\\programs\\python\\python36\\lib\\site-packages (from pywhatkit) (1.4.0)\n",
      "Requirement already satisfied: Pillow in c:\\users\\vixen\\appdata\\local\\programs\\python\\python36\\lib\\site-packages (from pywhatkit) (8.4.0)\n",
      "Requirement already satisfied: Flask in c:\\users\\vixen\\appdata\\local\\programs\\python\\python36\\lib\\site-packages (from pywhatkit) (2.0.3)\n",
      "Requirement already satisfied: pyautogui in c:\\users\\vixen\\appdata\\local\\programs\\python\\python36\\lib\\site-packages (from pywhatkit) (0.9.53)\n",
      "Requirement already satisfied: itsdangerous>=2.0 in c:\\users\\vixen\\appdata\\local\\programs\\python\\python36\\lib\\site-packages (from Flask->pywhatkit) (2.0.1)\n",
      "Requirement already satisfied: Werkzeug>=2.0 in c:\\users\\vixen\\appdata\\local\\programs\\python\\python36\\lib\\site-packages (from Flask->pywhatkit) (2.0.3)\n",
      "Requirement already satisfied: click>=7.1.2 in c:\\users\\vixen\\appdata\\local\\programs\\python\\python36\\lib\\site-packages (from Flask->pywhatkit) (8.0.4)\n",
      "Requirement already satisfied: Jinja2>=3.0 in c:\\users\\vixen\\appdata\\local\\programs\\python\\python36\\lib\\site-packages (from Flask->pywhatkit) (3.0.3)\n",
      "Requirement already satisfied: pymsgbox in c:\\users\\vixen\\appdata\\local\\programs\\python\\python36\\lib\\site-packages (from pyautogui->pywhatkit) (1.0.9)\n",
      "Requirement already satisfied: PyTweening>=1.0.1 in c:\\users\\vixen\\appdata\\local\\programs\\python\\python36\\lib\\site-packages (from pyautogui->pywhatkit) (1.0.4)\n",
      "Requirement already satisfied: pyscreeze>=0.1.21 in c:\\users\\vixen\\appdata\\local\\programs\\python\\python36\\lib\\site-packages (from pyautogui->pywhatkit) (0.1.28)\n",
      "Requirement already satisfied: pygetwindow>=0.0.5 in c:\\users\\vixen\\appdata\\local\\programs\\python\\python36\\lib\\site-packages (from pyautogui->pywhatkit) (0.0.9)\n",
      "Requirement already satisfied: mouseinfo in c:\\users\\vixen\\appdata\\local\\programs\\python\\python36\\lib\\site-packages (from pyautogui->pywhatkit) (0.1.3)\n",
      "Requirement already satisfied: charset-normalizer~=2.0.0 in c:\\users\\vixen\\appdata\\local\\programs\\python\\python36\\lib\\site-packages (from requests->pywhatkit) (2.0.12)\n",
      "Requirement already satisfied: urllib3<1.27,>=1.21.1 in c:\\users\\vixen\\appdata\\local\\programs\\python\\python36\\lib\\site-packages (from requests->pywhatkit) (1.26.11)\n",
      "Requirement already satisfied: idna<4,>=2.5 in c:\\users\\vixen\\appdata\\local\\programs\\python\\python36\\lib\\site-packages (from requests->pywhatkit) (3.3)\n",
      "Requirement already satisfied: certifi>=2017.4.17 in c:\\users\\vixen\\appdata\\local\\programs\\python\\python36\\lib\\site-packages (from requests->pywhatkit) (2022.6.15)\n",
      "Requirement already satisfied: beautifulsoup4 in c:\\users\\vixen\\appdata\\local\\programs\\python\\python36\\lib\\site-packages (from wikipedia->pywhatkit) (4.11.1)\n",
      "Requirement already satisfied: colorama in c:\\users\\vixen\\appdata\\local\\programs\\python\\python36\\lib\\site-packages (from click>=7.1.2->Flask->pywhatkit) (0.4.5)\n",
      "Requirement already satisfied: importlib-metadata in c:\\users\\vixen\\appdata\\local\\programs\\python\\python36\\lib\\site-packages (from click>=7.1.2->Flask->pywhatkit) (4.8.3)\n",
      "Requirement already satisfied: MarkupSafe>=2.0 in c:\\users\\vixen\\appdata\\local\\programs\\python\\python36\\lib\\site-packages (from Jinja2>=3.0->Flask->pywhatkit) (2.0.1)\n",
      "Requirement already satisfied: pyrect in c:\\users\\vixen\\appdata\\local\\programs\\python\\python36\\lib\\site-packages (from pygetwindow>=0.0.5->pyautogui->pywhatkit) (0.2.0)\n",
      "Requirement already satisfied: dataclasses in c:\\users\\vixen\\appdata\\local\\programs\\python\\python36\\lib\\site-packages (from Werkzeug>=2.0->Flask->pywhatkit) (0.8)\n",
      "Requirement already satisfied: soupsieve>1.2 in c:\\users\\vixen\\appdata\\local\\programs\\python\\python36\\lib\\site-packages (from beautifulsoup4->wikipedia->pywhatkit) (2.3.2.post1)\n",
      "Requirement already satisfied: pyperclip in c:\\users\\vixen\\appdata\\local\\programs\\python\\python36\\lib\\site-packages (from mouseinfo->pyautogui->pywhatkit) (1.8.2)\n",
      "Requirement already satisfied: typing-extensions>=3.6.4 in c:\\users\\vixen\\appdata\\local\\programs\\python\\python36\\lib\\site-packages (from importlib-metadata->click>=7.1.2->Flask->pywhatkit) (4.1.1)\n",
      "Requirement already satisfied: zipp>=0.5 in c:\\users\\vixen\\appdata\\local\\programs\\python\\python36\\lib\\site-packages (from importlib-metadata->click>=7.1.2->Flask->pywhatkit) (3.6.0)\n",
      "Requirement already satisfied: wikipedia in c:\\users\\vixen\\appdata\\local\\programs\\python\\python36\\lib\\site-packages (1.4.0)\n",
      "Requirement already satisfied: beautifulsoup4 in c:\\users\\vixen\\appdata\\local\\programs\\python\\python36\\lib\\site-packages (from wikipedia) (4.11.1)\n",
      "Requirement already satisfied: requests<3.0.0,>=2.0.0 in c:\\users\\vixen\\appdata\\local\\programs\\python\\python36\\lib\\site-packages (from wikipedia) (2.27.1)\n",
      "Requirement already satisfied: idna<4,>=2.5 in c:\\users\\vixen\\appdata\\local\\programs\\python\\python36\\lib\\site-packages (from requests<3.0.0,>=2.0.0->wikipedia) (3.3)\n",
      "Requirement already satisfied: certifi>=2017.4.17 in c:\\users\\vixen\\appdata\\local\\programs\\python\\python36\\lib\\site-packages (from requests<3.0.0,>=2.0.0->wikipedia) (2022.6.15)\n",
      "Requirement already satisfied: urllib3<1.27,>=1.21.1 in c:\\users\\vixen\\appdata\\local\\programs\\python\\python36\\lib\\site-packages (from requests<3.0.0,>=2.0.0->wikipedia) (1.26.11)\n",
      "Requirement already satisfied: charset-normalizer~=2.0.0 in c:\\users\\vixen\\appdata\\local\\programs\\python\\python36\\lib\\site-packages (from requests<3.0.0,>=2.0.0->wikipedia) (2.0.12)\n",
      "Requirement already satisfied: soupsieve>1.2 in c:\\users\\vixen\\appdata\\local\\programs\\python\\python36\\lib\\site-packages (from beautifulsoup4->wikipedia) (2.3.2.post1)\n",
      "Requirement already satisfied: pyjokes in c:\\users\\vixen\\appdata\\local\\programs\\python\\python36\\lib\\site-packages (0.6.0)\n"
     ]
    }
   ],
   "source": [
    "!pip install SpeechRecognition\n",
    "!pip install pyttsx3\n",
    "!pip install PyAudio # if error lower version python <=3.6\n",
    "!pip install pywhatkit\n",
    "!pip install wikipedia\n",
    "!pip install pyjokes"
   ]
  },
  {
   "cell_type": "code",
   "execution_count": 32,
   "id": "05e924db",
   "metadata": {},
   "outputs": [],
   "source": [
    "import speech_recognition as sr\n",
    "import pyttsx3\n",
    "import pywhatkit\n",
    "import datetime\n",
    "import wikipedia\n",
    "import pyjokes"
   ]
  },
  {
   "cell_type": "code",
   "execution_count": 33,
   "id": "648fdf28",
   "metadata": {},
   "outputs": [],
   "source": [
    "listener = sr.Recognizer()\n",
    "engine = pyttsx3.init()\n",
    "voices = engine.getProperty('voices')\n",
    "engine.setProperty('voice', voices[1].id)"
   ]
  },
  {
   "cell_type": "code",
   "execution_count": 34,
   "id": "504233b0",
   "metadata": {},
   "outputs": [],
   "source": [
    "engine.say(\"Added the final ingredients to your elixer.\")"
   ]
  },
  {
   "cell_type": "code",
   "execution_count": 35,
   "id": "83f58294",
   "metadata": {},
   "outputs": [],
   "source": [
    "def talk(text):\n",
    "    engine.say(text)\n",
    "    engine.runAndWait()\n",
    "\n",
    "def run_alexa(c):\n",
    "    commando = c\n",
    "    talk(commando)"
   ]
  },
  {
   "cell_type": "code",
   "execution_count": 36,
   "id": "4a6f4266",
   "metadata": {},
   "outputs": [],
   "source": [
    "import pandas as pd\n",
    "import numpy as np"
   ]
  },
  {
   "cell_type": "code",
   "execution_count": 37,
   "id": "e7f4fde7",
   "metadata": {},
   "outputs": [],
   "source": [
    "data = pd.read_csv('clean_jokes.csv')"
   ]
  },
  {
   "cell_type": "code",
   "execution_count": 38,
   "id": "cee220ce",
   "metadata": {},
   "outputs": [
    {
     "data": {
      "text/html": [
       "<div>\n",
       "<style scoped>\n",
       "    .dataframe tbody tr th:only-of-type {\n",
       "        vertical-align: middle;\n",
       "    }\n",
       "\n",
       "    .dataframe tbody tr th {\n",
       "        vertical-align: top;\n",
       "    }\n",
       "\n",
       "    .dataframe thead th {\n",
       "        text-align: right;\n",
       "    }\n",
       "</style>\n",
       "<table border=\"1\" class=\"dataframe\">\n",
       "  <thead>\n",
       "    <tr style=\"text-align: right;\">\n",
       "      <th></th>\n",
       "      <th>Unnamed: 0</th>\n",
       "      <th>Unnamed: 0.1</th>\n",
       "      <th>id</th>\n",
       "      <th>conversation_id</th>\n",
       "      <th>created_at</th>\n",
       "      <th>date</th>\n",
       "      <th>timezone</th>\n",
       "      <th>place</th>\n",
       "      <th>tweet</th>\n",
       "      <th>language</th>\n",
       "      <th>...</th>\n",
       "      <th>source</th>\n",
       "      <th>user_rt_id</th>\n",
       "      <th>user_rt</th>\n",
       "      <th>retweet_id</th>\n",
       "      <th>reply_to</th>\n",
       "      <th>retweet_date</th>\n",
       "      <th>translate</th>\n",
       "      <th>trans_src</th>\n",
       "      <th>trans_dest</th>\n",
       "      <th>cleaned</th>\n",
       "    </tr>\n",
       "  </thead>\n",
       "  <tbody>\n",
       "    <tr>\n",
       "      <th>0</th>\n",
       "      <td>0</td>\n",
       "      <td>0</td>\n",
       "      <td>1560414541254729728</td>\n",
       "      <td>1560414541254729728</td>\n",
       "      <td>1.660867e+12</td>\n",
       "      <td>2022-08-18 23:53:12</td>\n",
       "      <td>0</td>\n",
       "      <td>NaN</td>\n",
       "      <td>Anyone in need of some cash wanna come over an...</td>\n",
       "      <td>en</td>\n",
       "      <td>...</td>\n",
       "      <td>NaN</td>\n",
       "      <td>NaN</td>\n",
       "      <td>NaN</td>\n",
       "      <td>NaN</td>\n",
       "      <td>[]</td>\n",
       "      <td>NaN</td>\n",
       "      <td>NaN</td>\n",
       "      <td>NaN</td>\n",
       "      <td>NaN</td>\n",
       "      <td>Anyone in need of some cash wanna come over an...</td>\n",
       "    </tr>\n",
       "    <tr>\n",
       "      <th>1</th>\n",
       "      <td>1</td>\n",
       "      <td>1</td>\n",
       "      <td>1560413890231635973</td>\n",
       "      <td>1560413861857181697</td>\n",
       "      <td>1.660867e+12</td>\n",
       "      <td>2022-08-18 23:50:37</td>\n",
       "      <td>0</td>\n",
       "      <td>NaN</td>\n",
       "      <td>errr @randomtrump1 @RealDonaldTrump #joke : 'H...</td>\n",
       "      <td>en</td>\n",
       "      <td>...</td>\n",
       "      <td>NaN</td>\n",
       "      <td>NaN</td>\n",
       "      <td>NaN</td>\n",
       "      <td>NaN</td>\n",
       "      <td>[]</td>\n",
       "      <td>NaN</td>\n",
       "      <td>NaN</td>\n",
       "      <td>NaN</td>\n",
       "      <td>NaN</td>\n",
       "      <td>errr randomtrump1 RealDonaldTrump joke His cor...</td>\n",
       "    </tr>\n",
       "    <tr>\n",
       "      <th>2</th>\n",
       "      <td>2</td>\n",
       "      <td>2</td>\n",
       "      <td>1560413582088601600</td>\n",
       "      <td>1560413582088601600</td>\n",
       "      <td>1.660867e+12</td>\n",
       "      <td>2022-08-18 23:49:23</td>\n",
       "      <td>0</td>\n",
       "      <td>NaN</td>\n",
       "      <td>I am not groot, I am Tree @CommeEddie  #IAmGro...</td>\n",
       "      <td>en</td>\n",
       "      <td>...</td>\n",
       "      <td>NaN</td>\n",
       "      <td>NaN</td>\n",
       "      <td>NaN</td>\n",
       "      <td>NaN</td>\n",
       "      <td>[]</td>\n",
       "      <td>NaN</td>\n",
       "      <td>NaN</td>\n",
       "      <td>NaN</td>\n",
       "      <td>NaN</td>\n",
       "      <td>I am not groot I am Tree CommeEddie IAmGroot M...</td>\n",
       "    </tr>\n",
       "    <tr>\n",
       "      <th>3</th>\n",
       "      <td>3</td>\n",
       "      <td>3</td>\n",
       "      <td>1560411661692833793</td>\n",
       "      <td>1560411661692833793</td>\n",
       "      <td>1.660866e+12</td>\n",
       "      <td>2022-08-18 23:41:45</td>\n",
       "      <td>0</td>\n",
       "      <td>NaN</td>\n",
       "      <td>No kidding!!!  #alarmclock #joke  https://t.co...</td>\n",
       "      <td>en</td>\n",
       "      <td>...</td>\n",
       "      <td>NaN</td>\n",
       "      <td>NaN</td>\n",
       "      <td>NaN</td>\n",
       "      <td>NaN</td>\n",
       "      <td>[]</td>\n",
       "      <td>NaN</td>\n",
       "      <td>NaN</td>\n",
       "      <td>NaN</td>\n",
       "      <td>NaN</td>\n",
       "      <td>No kidding alarmclock joke https t co 2D1cHOjWLx</td>\n",
       "    </tr>\n",
       "    <tr>\n",
       "      <th>4</th>\n",
       "      <td>4</td>\n",
       "      <td>4</td>\n",
       "      <td>1560411198092443648</td>\n",
       "      <td>1560411198092443648</td>\n",
       "      <td>1.660866e+12</td>\n",
       "      <td>2022-08-18 23:39:55</td>\n",
       "      <td>0</td>\n",
       "      <td>NaN</td>\n",
       "      <td>Czym się rózni Yordle od Karła ?  Niektórzy lu...</td>\n",
       "      <td>pl</td>\n",
       "      <td>...</td>\n",
       "      <td>NaN</td>\n",
       "      <td>NaN</td>\n",
       "      <td>NaN</td>\n",
       "      <td>NaN</td>\n",
       "      <td>[]</td>\n",
       "      <td>NaN</td>\n",
       "      <td>NaN</td>\n",
       "      <td>NaN</td>\n",
       "      <td>NaN</td>\n",
       "      <td>Czym się rózni Yordle od Karła Niektórzy lubią...</td>\n",
       "    </tr>\n",
       "  </tbody>\n",
       "</table>\n",
       "<p>5 rows × 41 columns</p>\n",
       "</div>"
      ],
      "text/plain": [
       "   Unnamed: 0  Unnamed: 0.1                   id      conversation_id  \\\n",
       "0           0             0  1560414541254729728  1560414541254729728   \n",
       "1           1             1  1560413890231635973  1560413861857181697   \n",
       "2           2             2  1560413582088601600  1560413582088601600   \n",
       "3           3             3  1560411661692833793  1560411661692833793   \n",
       "4           4             4  1560411198092443648  1560411198092443648   \n",
       "\n",
       "     created_at                 date  timezone place  \\\n",
       "0  1.660867e+12  2022-08-18 23:53:12         0   NaN   \n",
       "1  1.660867e+12  2022-08-18 23:50:37         0   NaN   \n",
       "2  1.660867e+12  2022-08-18 23:49:23         0   NaN   \n",
       "3  1.660866e+12  2022-08-18 23:41:45         0   NaN   \n",
       "4  1.660866e+12  2022-08-18 23:39:55         0   NaN   \n",
       "\n",
       "                                               tweet language  ... source  \\\n",
       "0  Anyone in need of some cash wanna come over an...       en  ...    NaN   \n",
       "1  errr @randomtrump1 @RealDonaldTrump #joke : 'H...       en  ...    NaN   \n",
       "2  I am not groot, I am Tree @CommeEddie  #IAmGro...       en  ...    NaN   \n",
       "3  No kidding!!!  #alarmclock #joke  https://t.co...       en  ...    NaN   \n",
       "4  Czym się rózni Yordle od Karła ?  Niektórzy lu...       pl  ...    NaN   \n",
       "\n",
       "  user_rt_id  user_rt  retweet_id reply_to retweet_date  translate  trans_src  \\\n",
       "0        NaN      NaN         NaN       []          NaN        NaN        NaN   \n",
       "1        NaN      NaN         NaN       []          NaN        NaN        NaN   \n",
       "2        NaN      NaN         NaN       []          NaN        NaN        NaN   \n",
       "3        NaN      NaN         NaN       []          NaN        NaN        NaN   \n",
       "4        NaN      NaN         NaN       []          NaN        NaN        NaN   \n",
       "\n",
       "  trans_dest                                            cleaned  \n",
       "0        NaN  Anyone in need of some cash wanna come over an...  \n",
       "1        NaN  errr randomtrump1 RealDonaldTrump joke His cor...  \n",
       "2        NaN  I am not groot I am Tree CommeEddie IAmGroot M...  \n",
       "3        NaN   No kidding alarmclock joke https t co 2D1cHOjWLx  \n",
       "4        NaN  Czym się rózni Yordle od Karła Niektórzy lubią...  \n",
       "\n",
       "[5 rows x 41 columns]"
      ]
     },
     "execution_count": 38,
     "metadata": {},
     "output_type": "execute_result"
    }
   ],
   "source": [
    "data.head()"
   ]
  },
  {
   "cell_type": "code",
   "execution_count": 39,
   "id": "00c31b20",
   "metadata": {},
   "outputs": [
    {
     "data": {
      "text/plain": [
       "(2501, 41)"
      ]
     },
     "execution_count": 39,
     "metadata": {},
     "output_type": "execute_result"
    }
   ],
   "source": [
    "data.shape"
   ]
  },
  {
   "cell_type": "code",
   "execution_count": 40,
   "id": "2b8cfda8",
   "metadata": {},
   "outputs": [
    {
     "name": "stdout",
     "output_type": "stream",
     "text": [
      "200\n"
     ]
    }
   ],
   "source": [
    "rate = engine.getProperty('rate')\n",
    "print (rate)"
   ]
  },
  {
   "cell_type": "code",
   "execution_count": 41,
   "id": "f2bed8e3",
   "metadata": {},
   "outputs": [],
   "source": [
    "engine.setProperty('rate', 112) # Decrease the Speed Rate x2"
   ]
  },
  {
   "cell_type": "code",
   "execution_count": 42,
   "id": "1ddc4671",
   "metadata": {},
   "outputs": [
    {
     "name": "stdout",
     "output_type": "stream",
     "text": [
      "499\n"
     ]
    }
   ],
   "source": [
    "max_size = data.shape[0]\n",
    "randn = np.random.randint(max_size)\n",
    "\n",
    "print(randn)"
   ]
  },
  {
   "cell_type": "code",
   "execution_count": 43,
   "id": "6105c859",
   "metadata": {},
   "outputs": [],
   "source": [
    "def execute(val):\n",
    "    i = val\n",
    "    max_size = data.shape[0]\n",
    "    randn = np.random.randint(max_size)\n",
    "    print(\"* (running index): \", randn)\n",
    "    \n",
    "    ###\n",
    "#     twt = data['cleaned'][randn] # <-----\n",
    "\n",
    "    ### do routine ###\n",
    "    count = 0\n",
    "    twt = ''\n",
    "    \n",
    "    for s in data['cleaned'][randn]:\n",
    "        count = count + 1\n",
    "        if count > 100:\n",
    "            twt = str(twt + s)\n",
    "            break\n",
    "        else:\n",
    "            twt = str(twt + s)\n",
    "            \n",
    "    ### end of routine ###\n",
    "    \n",
    "    print(\"\\n* (Tweet):\\n\\\"\" + twt + \"\\\"\")\n",
    "    run_alexa(twt)\n",
    "    engine.save_to_file(twt[i], 'tweet.mp3')\n",
    "    return i, twt"
   ]
  },
  {
   "cell_type": "code",
   "execution_count": null,
   "id": "c0447445",
   "metadata": {
    "scrolled": true
   },
   "outputs": [
    {
     "name": "stdout",
     "output_type": "stream",
     "text": [
      "* (running index):  2263\n",
      "\n",
      "* (Tweet):\n",
      "\"My 12 year old son tried coffee for the first time today https t co 5T66hVPPLj Joke Haha Funny HahaCa\"\n",
      "\n",
      "* (current variation):\n",
      "interval is leaving in (ETA): ~89.5 seconds.\n",
      "\n",
      "\n",
      "* (running index):  2483\n",
      "\n",
      "* (Tweet):\n",
      "\"A friend of mine is so unlucky that the last banana he bought was empty https t co fJWniRZBVv Banana \"\n",
      "\n",
      "* (current variation):\n",
      "interval is leaving in (ETA): ~94.0 seconds.\n",
      "\n",
      "\n"
     ]
    }
   ],
   "source": [
    "from time import time, sleep\n",
    "\n",
    "all = []\n",
    "val = 0 # last value incremented by running function\n",
    "o = 4 # 100 / 4 = 25% time factor\n",
    "p = 5 # o * p == 4*5 = 20% time deviation up or down;\n",
    "\n",
    "\n",
    "# go in a loop and print the returned number and number of the last tweet.\n",
    "while True:\n",
    "    ret, twe = execute(val)\n",
    "    ret = ret + 1\n",
    "    val = ret\n",
    "    all.append(twe)\n",
    "\n",
    "    timev = 96\n",
    "    timeval1 = timev - np.random.randint(21) + 1\n",
    "    timeval2 = timev + np.random.randint(21) + 1\n",
    "    \n",
    "    # calculate the time value which is ultimately used\n",
    "    timeval = (timeval1 + timeval2) / 2\n",
    "    print(\"\\n* (current variation):\\ninterval is leaving in (ETA): ~\" + str(timeval) + \" seconds.\\n\\n\")\n",
    "    \n",
    "    # actually sleep\n",
    "    #sleep(95-time() % 95) # (original version) of this command\n",
    "    sleep(timev - time() % timeval) # if 100 == run every 100 seconds\n",
    "    \n",
    "print(\"ret: \" + ret + \"tweet: \" + twe)"
   ]
  },
  {
   "cell_type": "code",
   "execution_count": null,
   "id": "6a69bd33",
   "metadata": {},
   "outputs": [],
   "source": [
    "if twe > 1:\n",
    "    print(all[0])\n",
    "    print(all[1])"
   ]
  }
 ],
 "metadata": {
  "kernelspec": {
   "display_name": "Python 3",
   "language": "python",
   "name": "python3"
  },
  "language_info": {
   "codemirror_mode": {
    "name": "ipython",
    "version": 3
   },
   "file_extension": ".py",
   "mimetype": "text/x-python",
   "name": "python",
   "nbconvert_exporter": "python",
   "pygments_lexer": "ipython3",
   "version": "3.6.8"
  }
 },
 "nbformat": 4,
 "nbformat_minor": 5
}
