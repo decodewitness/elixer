{
 "cells": [
  {
   "cell_type": "markdown",
   "metadata": {
    "id": "WqkEl08jsxRp"
   },
   "source": [
    "# scrape.ipynb\n",
    "\n",
    "### Twitter Scraper - Needs Google Colaboratory to support saves in your Google Drive."
   ]
  },
  {
   "cell_type": "code",
   "execution_count": null,
   "metadata": {
    "colab": {
     "base_uri": "https://localhost:8080/"
    },
    "id": "kym6uhuNswHx",
    "outputId": "3b22271e-7900-48bf-9207-507c6c81e455"
   },
   "outputs": [],
   "source": [
    "from google.colab import drive\n",
    "drive.mount('gdrive')"
   ]
  },
  {
   "cell_type": "code",
   "execution_count": null,
   "metadata": {},
   "outputs": [],
   "source": [
    "%mkdir scrape"
   ]
  },
  {
   "cell_type": "code",
   "execution_count": null,
   "metadata": {
    "colab": {
     "base_uri": "https://localhost:8080/"
    },
    "id": "Oq6OPvU5tEJX",
    "outputId": "25a49a8e-3207-4ff4-9cf4-ca2bf1c15153"
   },
   "outputs": [],
   "source": [
    "%cd /content/gdrive/My Drive/scrape"
   ]
  },
  {
   "cell_type": "code",
   "execution_count": null,
   "metadata": {
    "colab": {
     "base_uri": "https://localhost:8080/"
    },
    "id": "S0alYJX4tOH1",
    "outputId": "859f5ed2-d6ea-45a8-ad78-7a42d81880d8"
   },
   "outputs": [],
   "source": [
    "!pwd"
   ]
  },
  {
   "cell_type": "code",
   "execution_count": null,
   "metadata": {
    "id": "UlsdYxp6tnpR"
   },
   "outputs": [],
   "source": [
    "!ls"
   ]
  },
  {
   "cell_type": "code",
   "execution_count": null,
   "metadata": {
    "colab": {
     "base_uri": "https://localhost:8080/"
    },
    "id": "5qb29SZWtqZP",
    "outputId": "7d26422d-f8c8-47eb-f540-0753345ff8c3"
   },
   "outputs": [],
   "source": [
    "!pip install nest-asyncio "
   ]
  },
  {
   "cell_type": "code",
   "execution_count": null,
   "metadata": {
    "colab": {
     "base_uri": "https://localhost:8080/"
    },
    "id": "112Uq3fGuxTL",
    "outputId": "17fb427d-239c-4357-bc50-c475bd63f8b8"
   },
   "outputs": [],
   "source": [
    "# Upgrade Twint\n",
    "#!pip3 install --user --upgrade git+https://github.com/twintproject/twint.git@origin/master#egg=twint\n",
    "\n",
    "!pip3 install --upgrade -e \"git+https://github.com/twintproject/twint.git@origin/master#egg=twint\""
   ]
  },
  {
   "cell_type": "code",
   "execution_count": null,
   "metadata": {
    "id": "HCu7S9NxvvAP"
   },
   "outputs": [],
   "source": [
    "!mv src/twint .\n",
    "!rm -r src"
   ]
  },
  {
   "cell_type": "code",
   "execution_count": null,
   "metadata": {
    "id": "TVz3OX_vv1hT"
   },
   "outputs": [],
   "source": [
    "%load_ext autoreload\n",
    "%autoreload\n",
    "import sys\n",
    "sys.path.append(\"twint/\")"
   ]
  },
  {
   "cell_type": "code",
   "execution_count": null,
   "metadata": {
    "id": "S6udwW3ZwAaz"
   },
   "outputs": [],
   "source": [
    "import twint\n",
    "import pandas as pd\n",
    "import nest_asyncio\n",
    "nest_asyncio.apply()"
   ]
  },
  {
   "cell_type": "code",
   "execution_count": null,
   "metadata": {
    "id": "mGEhYWyowU2m"
   },
   "outputs": [],
   "source": [
    "# c.Search is the term to search for on Twitter, c.Username is the @handle.\n",
    "c = twint.Config()\n",
    "c.Pandas = True\n",
    "c.Store_csv = True\n",
    "#c.Username = \"knowledge\"\n",
    "c.Search = \"#joke\"\n",
    "c.Limit = 2500\n",
    "c.Since = \"2022-07-19\"\n",
    "c.Until = \"2022-08-19\"\n",
    "c.Lang = 'en'"
   ]
  },
  {
   "cell_type": "code",
   "execution_count": null,
   "metadata": {
    "colab": {
     "base_uri": "https://localhost:8080/"
    },
    "id": "Etwc8UaWxkV2",
    "outputId": "b5299dad-0aa0-4672-faa4-76a6fce8f57f"
   },
   "outputs": [],
   "source": [
    "twint.run.Search(c)"
   ]
  },
  {
   "cell_type": "code",
   "execution_count": null,
   "metadata": {
    "colab": {
     "base_uri": "https://localhost:8080/"
    },
    "id": "3vJFBGXW07ml",
    "outputId": "66d709b0-d7c8-4acb-f72c-2597a3ca42c8"
   },
   "outputs": [],
   "source": [
    "twint.storage.panda.Tweets_df['tweet'].count()"
   ]
  },
  {
   "cell_type": "code",
   "execution_count": null,
   "metadata": {
    "colab": {
     "base_uri": "https://localhost:8080/"
    },
    "id": "6_L9yjnO02El",
    "outputId": "d360437f-8f38-4340-8c7c-686aeeec135f"
   },
   "outputs": [],
   "source": [
    "twint.storage.panda.Tweets_df.count()"
   ]
  },
  {
   "cell_type": "code",
   "execution_count": null,
   "metadata": {
    "colab": {
     "base_uri": "https://localhost:8080/",
     "height": 508
    },
    "id": "oeTtezkqynif",
    "outputId": "53c22318-959b-45b2-b574-acbb219d8cfe"
   },
   "outputs": [],
   "source": [
    "twint.storage.panda.Tweets_df.head()"
   ]
  },
  {
   "cell_type": "code",
   "execution_count": null,
   "metadata": {
    "colab": {
     "base_uri": "https://localhost:8080/",
     "height": 35
    },
    "id": "C21ngLJM0_s_",
    "outputId": "466d83ee-de07-4719-87e4-44c4a2dc83ed"
   },
   "outputs": [],
   "source": [
    "twint.storage.panda.Tweets_df['tweet'][0]"
   ]
  },
  {
   "cell_type": "code",
   "execution_count": null,
   "metadata": {
    "colab": {
     "base_uri": "https://localhost:8080/"
    },
    "id": "yJJC7e79Nzu7",
    "outputId": "e7aa7efa-719e-4c7d-92e6-c59bf4f8c6f9"
   },
   "outputs": [],
   "source": [
    "!ls"
   ]
  },
  {
   "cell_type": "code",
   "execution_count": null,
   "metadata": {
    "colab": {
     "base_uri": "https://localhost:8080/"
    },
    "id": "j41m4NJw2YRM",
    "outputId": "9238af34-abfc-4347-c22f-1bd9c0760c61"
   },
   "outputs": [],
   "source": [
    "twint.storage.panda.Tweets_df.to_csv('joke.csv')\n",
    "!cp 'joke.csv' \"gdrive/My Drive/elixer/joke.csv\""
   ]
  }
 ],
 "metadata": {
  "colab": {
   "collapsed_sections": [],
   "name": "SCRAPE.ipynb",
   "provenance": []
  },
  "kernelspec": {
   "display_name": "Python 3",
   "language": "python",
   "name": "python3"
  },
  "language_info": {
   "codemirror_mode": {
    "name": "ipython",
    "version": 3
   },
   "file_extension": ".py",
   "mimetype": "text/x-python",
   "name": "python",
   "nbconvert_exporter": "python",
   "pygments_lexer": "ipython3",
   "version": "3.6.8"
  }
 },
 "nbformat": 4,
 "nbformat_minor": 1
}
