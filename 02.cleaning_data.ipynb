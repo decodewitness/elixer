{
 "cells": [
  {
   "cell_type": "markdown",
   "id": "4ee22e76",
   "metadata": {},
   "source": [
    "# CLEAN DATA"
   ]
  },
  {
   "cell_type": "code",
   "execution_count": 1,
   "id": "caa12bef",
   "metadata": {},
   "outputs": [],
   "source": [
    "import numpy as np\n",
    "import pandas as pd\n",
    "\n",
    "import matplotlib.pyplot as plt\n",
    "import seaborn as sns"
   ]
  },
  {
   "cell_type": "code",
   "execution_count": 2,
   "id": "65342dda",
   "metadata": {},
   "outputs": [
    {
     "data": {
      "text/plain": [
       "(2501, 39)"
      ]
     },
     "execution_count": 2,
     "metadata": {},
     "output_type": "execute_result"
    }
   ],
   "source": [
    "data = pd.read_csv('jokes.csv')\n",
    "\n",
    "data.shape"
   ]
  },
  {
   "cell_type": "code",
   "execution_count": 3,
   "id": "1f5578bb",
   "metadata": {},
   "outputs": [
    {
     "data": {
      "text/html": [
       "<div>\n",
       "<style scoped>\n",
       "    .dataframe tbody tr th:only-of-type {\n",
       "        vertical-align: middle;\n",
       "    }\n",
       "\n",
       "    .dataframe tbody tr th {\n",
       "        vertical-align: top;\n",
       "    }\n",
       "\n",
       "    .dataframe thead th {\n",
       "        text-align: right;\n",
       "    }\n",
       "</style>\n",
       "<table border=\"1\" class=\"dataframe\">\n",
       "  <thead>\n",
       "    <tr style=\"text-align: right;\">\n",
       "      <th></th>\n",
       "      <th>Unnamed: 0</th>\n",
       "      <th>id</th>\n",
       "      <th>conversation_id</th>\n",
       "      <th>created_at</th>\n",
       "      <th>date</th>\n",
       "      <th>timezone</th>\n",
       "      <th>place</th>\n",
       "      <th>tweet</th>\n",
       "      <th>language</th>\n",
       "      <th>hashtags</th>\n",
       "      <th>...</th>\n",
       "      <th>geo</th>\n",
       "      <th>source</th>\n",
       "      <th>user_rt_id</th>\n",
       "      <th>user_rt</th>\n",
       "      <th>retweet_id</th>\n",
       "      <th>reply_to</th>\n",
       "      <th>retweet_date</th>\n",
       "      <th>translate</th>\n",
       "      <th>trans_src</th>\n",
       "      <th>trans_dest</th>\n",
       "    </tr>\n",
       "  </thead>\n",
       "  <tbody>\n",
       "    <tr>\n",
       "      <th>0</th>\n",
       "      <td>0</td>\n",
       "      <td>1560414541254729728</td>\n",
       "      <td>1560414541254729728</td>\n",
       "      <td>1.660867e+12</td>\n",
       "      <td>2022-08-18 23:53:12</td>\n",
       "      <td>0</td>\n",
       "      <td>NaN</td>\n",
       "      <td>Anyone in need of some cash wanna come over an...</td>\n",
       "      <td>en</td>\n",
       "      <td>['joke']</td>\n",
       "      <td>...</td>\n",
       "      <td>NaN</td>\n",
       "      <td>NaN</td>\n",
       "      <td>NaN</td>\n",
       "      <td>NaN</td>\n",
       "      <td>NaN</td>\n",
       "      <td>[]</td>\n",
       "      <td>NaN</td>\n",
       "      <td>NaN</td>\n",
       "      <td>NaN</td>\n",
       "      <td>NaN</td>\n",
       "    </tr>\n",
       "    <tr>\n",
       "      <th>1</th>\n",
       "      <td>1</td>\n",
       "      <td>1560413890231635973</td>\n",
       "      <td>1560413861857181697</td>\n",
       "      <td>1.660867e+12</td>\n",
       "      <td>2022-08-18 23:50:37</td>\n",
       "      <td>0</td>\n",
       "      <td>NaN</td>\n",
       "      <td>errr @randomtrump1 @RealDonaldTrump #joke : 'H...</td>\n",
       "      <td>en</td>\n",
       "      <td>['joke', 'trump', 'maga', 'racistinchief', 'ra...</td>\n",
       "      <td>...</td>\n",
       "      <td>NaN</td>\n",
       "      <td>NaN</td>\n",
       "      <td>NaN</td>\n",
       "      <td>NaN</td>\n",
       "      <td>NaN</td>\n",
       "      <td>[]</td>\n",
       "      <td>NaN</td>\n",
       "      <td>NaN</td>\n",
       "      <td>NaN</td>\n",
       "      <td>NaN</td>\n",
       "    </tr>\n",
       "    <tr>\n",
       "      <th>2</th>\n",
       "      <td>2</td>\n",
       "      <td>1560413582088601600</td>\n",
       "      <td>1560413582088601600</td>\n",
       "      <td>1.660867e+12</td>\n",
       "      <td>2022-08-18 23:49:23</td>\n",
       "      <td>0</td>\n",
       "      <td>NaN</td>\n",
       "      <td>I am not groot, I am Tree @CommeEddie  #IAmGro...</td>\n",
       "      <td>en</td>\n",
       "      <td>['iamgroot', 'marvel', 'fun', 'joke', 'jokes',...</td>\n",
       "      <td>...</td>\n",
       "      <td>NaN</td>\n",
       "      <td>NaN</td>\n",
       "      <td>NaN</td>\n",
       "      <td>NaN</td>\n",
       "      <td>NaN</td>\n",
       "      <td>[]</td>\n",
       "      <td>NaN</td>\n",
       "      <td>NaN</td>\n",
       "      <td>NaN</td>\n",
       "      <td>NaN</td>\n",
       "    </tr>\n",
       "  </tbody>\n",
       "</table>\n",
       "<p>3 rows × 39 columns</p>\n",
       "</div>"
      ],
      "text/plain": [
       "   Unnamed: 0                   id      conversation_id    created_at  \\\n",
       "0           0  1560414541254729728  1560414541254729728  1.660867e+12   \n",
       "1           1  1560413890231635973  1560413861857181697  1.660867e+12   \n",
       "2           2  1560413582088601600  1560413582088601600  1.660867e+12   \n",
       "\n",
       "                  date  timezone place  \\\n",
       "0  2022-08-18 23:53:12         0   NaN   \n",
       "1  2022-08-18 23:50:37         0   NaN   \n",
       "2  2022-08-18 23:49:23         0   NaN   \n",
       "\n",
       "                                               tweet language  \\\n",
       "0  Anyone in need of some cash wanna come over an...       en   \n",
       "1  errr @randomtrump1 @RealDonaldTrump #joke : 'H...       en   \n",
       "2  I am not groot, I am Tree @CommeEddie  #IAmGro...       en   \n",
       "\n",
       "                                            hashtags  ... geo  source  \\\n",
       "0                                           ['joke']  ... NaN     NaN   \n",
       "1  ['joke', 'trump', 'maga', 'racistinchief', 'ra...  ... NaN     NaN   \n",
       "2  ['iamgroot', 'marvel', 'fun', 'joke', 'jokes',...  ... NaN     NaN   \n",
       "\n",
       "   user_rt_id user_rt retweet_id  reply_to  retweet_date translate trans_src  \\\n",
       "0         NaN     NaN        NaN        []           NaN       NaN       NaN   \n",
       "1         NaN     NaN        NaN        []           NaN       NaN       NaN   \n",
       "2         NaN     NaN        NaN        []           NaN       NaN       NaN   \n",
       "\n",
       "  trans_dest  \n",
       "0        NaN  \n",
       "1        NaN  \n",
       "2        NaN  \n",
       "\n",
       "[3 rows x 39 columns]"
      ]
     },
     "execution_count": 3,
     "metadata": {},
     "output_type": "execute_result"
    }
   ],
   "source": [
    "data.head(3)"
   ]
  },
  {
   "cell_type": "code",
   "execution_count": 4,
   "id": "05f49193",
   "metadata": {},
   "outputs": [
    {
     "data": {
      "text/plain": [
       "Unnamed: 0            0\n",
       "id                    0\n",
       "conversation_id       0\n",
       "created_at            0\n",
       "date                  0\n",
       "timezone              0\n",
       "place              2491\n",
       "tweet                 0\n",
       "language              0\n",
       "hashtags              0\n",
       "cashtags              0\n",
       "user_id               0\n",
       "user_id_str           0\n",
       "username              0\n",
       "name                  0\n",
       "day                   0\n",
       "hour                  0\n",
       "link                  0\n",
       "urls                  0\n",
       "photos                0\n",
       "video                 0\n",
       "thumbnail          1413\n",
       "retweet               0\n",
       "nlikes                0\n",
       "nreplies              0\n",
       "nretweets             0\n",
       "quote_url          2398\n",
       "search                0\n",
       "near               2501\n",
       "geo                2501\n",
       "source             2501\n",
       "user_rt_id         2501\n",
       "user_rt            2501\n",
       "retweet_id         2501\n",
       "reply_to              0\n",
       "retweet_date       2501\n",
       "translate          2501\n",
       "trans_src          2501\n",
       "trans_dest         2501\n",
       "dtype: int64"
      ]
     },
     "execution_count": 4,
     "metadata": {},
     "output_type": "execute_result"
    }
   ],
   "source": [
    "data.isnull().sum()"
   ]
  },
  {
   "cell_type": "code",
   "execution_count": 5,
   "id": "5fdba5c5",
   "metadata": {},
   "outputs": [],
   "source": [
    "import re\n",
    "import nltk\n",
    "from nltk.tokenize import RegexpTokenizer"
   ]
  },
  {
   "cell_type": "code",
   "execution_count": 6,
   "id": "210670f5",
   "metadata": {},
   "outputs": [],
   "source": [
    "def non_ascii(s):\n",
    "    return \"\".join(i for i in s if ord(i)<128)\n",
    "\n",
    "def lower(text):\n",
    "    return text.lower()\n",
    "\n",
    "def clean_links(text):\n",
    "    txt = re.compile('http[s]{1}://[\\w+][.]{1}[\\w+][.]{1}[\\w]{2,3}')\n",
    "    return txt.sub(r'', text)\n",
    "\n",
    "def clean_html(text):\n",
    "    html = re.compile('<.*?>')\n",
    "    return html.sub(r'', text)\n",
    "\n",
    "def punct(text):\n",
    "    token = RegexpTokenizer(r'\\w+')\n",
    "    text = token.tokenize(text)\n",
    "    text = \" \".join(text)\n",
    "    return text"
   ]
  },
  {
   "cell_type": "code",
   "execution_count": 7,
   "id": "2d99a635",
   "metadata": {},
   "outputs": [],
   "source": [
    "data['cleaned'] = data['tweet'].apply(non_ascii)\n",
    "data['cleaned'] = data['tweet'].apply(lower)\n",
    "data['cleaned'] = data['tweet'].apply(clean_links)\n",
    "data['cleaned'] = data['tweet'].apply(clean_html)\n",
    "data['cleaned'] = data['tweet'].apply(punct)"
   ]
  },
  {
   "cell_type": "code",
   "execution_count": 8,
   "id": "6f749b1f",
   "metadata": {},
   "outputs": [
    {
     "data": {
      "text/plain": [
       "0    Anyone in need of some cash wanna come over an...\n",
       "1    errr randomtrump1 RealDonaldTrump joke His cor...\n",
       "2    I am not groot I am Tree CommeEddie IAmGroot M...\n",
       "3     No kidding alarmclock joke https t co 2D1cHOjWLx\n",
       "4    Czym się rózni Yordle od Karła Niektórzy lubią...\n",
       "Name: cleaned, dtype: object"
      ]
     },
     "execution_count": 8,
     "metadata": {},
     "output_type": "execute_result"
    }
   ],
   "source": [
    "data['cleaned'].head()"
   ]
  },
  {
   "cell_type": "code",
   "execution_count": 9,
   "id": "76a1f3bb",
   "metadata": {},
   "outputs": [
    {
     "name": "stdout",
     "output_type": "stream",
     "text": [
      "Anyone in need of some cash wanna come over and paint the walls of my study for me my back amp workload ain t having it Joke But seriously I ve been wanting to paint these walls since we moved in So depressing https t co UGJWxTjdi5\n"
     ]
    }
   ],
   "source": [
    "print(data['cleaned'][0])"
   ]
  },
  {
   "cell_type": "code",
   "execution_count": 10,
   "id": "d8c26a4a",
   "metadata": {},
   "outputs": [
    {
     "name": "stdout",
     "output_type": "stream",
     "text": [
      "I am not groot I am Tree CommeEddie IAmGroot Marvel fun joke jokes funniesttweets laughs laughing MarvelAvengers https t co OR1IkVzzgO\n"
     ]
    }
   ],
   "source": [
    "print(data['cleaned'][2])"
   ]
  },
  {
   "cell_type": "code",
   "execution_count": 11,
   "id": "4052fb3b",
   "metadata": {},
   "outputs": [],
   "source": [
    "data.to_csv(\"clean_jokes.csv\")"
   ]
  }
 ],
 "metadata": {
  "kernelspec": {
   "display_name": "Python 3",
   "language": "python",
   "name": "python3"
  },
  "language_info": {
   "codemirror_mode": {
    "name": "ipython",
    "version": 3
   },
   "file_extension": ".py",
   "mimetype": "text/x-python",
   "name": "python",
   "nbconvert_exporter": "python",
   "pygments_lexer": "ipython3",
   "version": "3.6.8"
  }
 },
 "nbformat": 4,
 "nbformat_minor": 5
}
