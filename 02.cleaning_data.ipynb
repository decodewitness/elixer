{
 "cells": [
  {
   "cell_type": "markdown",
   "id": "4ee22e76",
   "metadata": {},
   "source": [
    "# CLEAN DATA"
   ]
  },
  {
   "cell_type": "code",
   "execution_count": null,
   "id": "caa12bef",
   "metadata": {},
   "outputs": [],
   "source": [
    "import numpy as np\n",
    "import pandas as pd\n",
    "\n",
    "import matplotlib.pyplot as plt\n",
    "import seaborn as sns"
   ]
  },
  {
   "cell_type": "code",
   "execution_count": null,
   "id": "65342dda",
   "metadata": {},
   "outputs": [],
   "source": [
    "data = pd.read_csv('jokes.csv')\n",
    "\n",
    "data.shape"
   ]
  },
  {
   "cell_type": "code",
   "execution_count": null,
   "id": "1f5578bb",
   "metadata": {},
   "outputs": [],
   "source": [
    "data.head(3)"
   ]
  },
  {
   "cell_type": "code",
   "execution_count": null,
   "id": "05f49193",
   "metadata": {},
   "outputs": [],
   "source": [
    "data.isnull().sum()"
   ]
  },
  {
   "cell_type": "code",
   "execution_count": null,
   "id": "5fdba5c5",
   "metadata": {},
   "outputs": [],
   "source": [
    "import re\n",
    "import nltk\n",
    "from nltk.tokenize import RegexpTokenizer"
   ]
  },
  {
   "cell_type": "code",
   "execution_count": null,
   "id": "210670f5",
   "metadata": {},
   "outputs": [],
   "source": [
    "def non_ascii(s):\n",
    "    return \"\".join(i for i in s if ord(i)<128)\n",
    "\n",
    "def lower(text):\n",
    "    return text.lower()\n",
    "\n",
    "def clean_links(text):\n",
    "    txt = re.compile('http[s]{1}://[\\w+][.]{1}[\\w+][.]{1}[\\w]{2,3}')\n",
    "    return txt.sub(r'', text)\n",
    "\n",
    "def clean_html(text):\n",
    "    html = re.compile('<.*?>')\n",
    "    return html.sub(r'', text)\n",
    "\n",
    "def punct(text):\n",
    "    token = RegexpTokenizer(r'\\w+')\n",
    "    text = token.tokenize(text)\n",
    "    text = \" \".join(text)\n",
    "    return text"
   ]
  },
  {
   "cell_type": "code",
   "execution_count": null,
   "id": "2d99a635",
   "metadata": {},
   "outputs": [],
   "source": [
    "data['cleaned'] = data['tweet'].apply(non_ascii)\n",
    "data['cleaned'] = data['tweet'].apply(lower)\n",
    "data['cleaned'] = data['tweet'].apply(clean_links)\n",
    "data['cleaned'] = data['tweet'].apply(clean_html)\n",
    "data['cleaned'] = data['tweet'].apply(punct)"
   ]
  },
  {
   "cell_type": "code",
   "execution_count": null,
   "id": "6f749b1f",
   "metadata": {},
   "outputs": [],
   "source": [
    "data['cleaned'].head()"
   ]
  },
  {
   "cell_type": "code",
   "execution_count": null,
   "id": "76a1f3bb",
   "metadata": {},
   "outputs": [],
   "source": [
    "print(data['cleaned'][0])"
   ]
  },
  {
   "cell_type": "code",
   "execution_count": null,
   "id": "d8c26a4a",
   "metadata": {},
   "outputs": [],
   "source": [
    "print(data['cleaned'][2])"
   ]
  },
  {
   "cell_type": "code",
   "execution_count": null,
   "id": "4052fb3b",
   "metadata": {},
   "outputs": [],
   "source": [
    "data.to_csv(\"clean_jokes.csv\")"
   ]
  }
 ],
 "metadata": {
  "kernelspec": {
   "display_name": "Python 3",
   "language": "python",
   "name": "python3"
  },
  "language_info": {
   "codemirror_mode": {
    "name": "ipython",
    "version": 3
   },
   "file_extension": ".py",
   "mimetype": "text/x-python",
   "name": "python",
   "nbconvert_exporter": "python",
   "pygments_lexer": "ipython3",
   "version": "3.6.8"
  }
 },
 "nbformat": 4,
 "nbformat_minor": 5
}
